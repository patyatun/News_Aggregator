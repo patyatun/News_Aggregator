{
 "cells": [
  {
   "cell_type": "markdown",
   "id": "db575032-cfb6-49e7-b120-2a959aa3023a",
   "metadata": {},
   "source": [
    "# Analyisis of Mexican Judicial Reform Sentiment"
   ]
  },
  {
   "cell_type": "markdown",
   "id": "21eed8f5-1b23-4c4a-9c78-5b81aa3d2877",
   "metadata": {},
   "source": [
    "I chose to explore the topic of judicial reform in Mexico because it is currently of significant importance. \n",
    "I was genuinely interested in examining whether the tone and wording of certain newspapers leaned more in favor of or against this issue. \n",
    "\n",
    "Initially, I utilized Google News for data collection; however, despite its usefulness, I encountered difficulties filtering results by date. I attempted several solutions from the documentation, but the parameters did not work as expected.\n",
    "To analyze sentiment, I employed TextBlob, which revealed that the majority of articles had a neutral or positive tone. I speculated that this might be due to the articles being written after the reform was approved. \n",
    "To investigate further, I turned to NewsAPI, where I could easily filter articles by date. I set the dates prior to September 11, the day of the reform's approval, to conduct another sentiment analysis. To my surprise, I found that nearly all articles remained neutral or positive. Following this, I attempted to scrape opposition newspapers to balance my sample. However, I encountered issues with dynamic content, and due to time constraints, I could not complete the scraping process. I made an initial attempt using Selenium for this purpose.\n",
    "\n",
    "Afterward, I proceeded with vectorization and trained a Multinomial Naive Bayes (MNB) model. The results indicate that while the model performed well in identifying neutral and positive sentiments, it struggled with negative sentiment classification, highlighting areas for improvement in future analyses."
   ]
  },
  {
   "cell_type": "code",
   "execution_count": 122,
   "id": "a3866922-8995-42af-bcd3-c1d8df91a870",
   "metadata": {},
   "outputs": [],
   "source": [
    "#import libraries\n",
    "from GoogleNews import GoogleNews\n",
    "from newspaper import Article\n",
    "import pandas as pd\n",
    "import time\n",
    "import random\n",
    "from datetime import datetime, timedelta\n",
    "from textblob import TextBlob\n",
    "import requests\n",
    "from bs4 import BeautifulSoup\n",
    "import matplotlib.pyplot as plt"
   ]
  },
  {
   "cell_type": "code",
   "execution_count": 100,
   "id": "a021e6e0-ed8a-4ee5-9ddb-e92103ed33f3",
   "metadata": {},
   "outputs": [],
   "source": [
    "from sklearn.feature_extraction.text import CountVectorizer\n",
    "from sklearn.naive_bayes import MultinomialNB\n",
    "from sklearn.model_selection import train_test_split\n",
    "from sklearn.metrics import classification_report\n",
    "import matplotlib.pyplot as plt"
   ]
  },
  {
   "cell_type": "code",
   "execution_count": 48,
   "id": "2715060f-5d9e-4eb6-8e8e-32d93d170082",
   "metadata": {},
   "outputs": [],
   "source": [
    "googlenews = GoogleNews()\n",
    "\n",
    "#function to start the search for an specific query\n",
    "def get_news(query, num_articles=100):\n",
    "    googlenews.search(query)\n",
    "    \n",
    "    articles = []\n",
    "    page = 1\n",
    "    \n",
    "    while len(articles) < num_articles:\n",
    "        result = googlenews.result()\n",
    "        for item in result:\n",
    "            if len(articles) < num_articles:\n",
    "                articles.append(item)\n",
    "            else:\n",
    "                break\n",
    "                \n",
    "        page += 1\n",
    "        googlenews.get_page(page)\n",
    "    \n",
    "    return articles\n",
    "\n",
    "#I realized that Google News appends identifiers to URLs, which trigger bot detection when scraping with newspaper\n",
    "#this function removes these identifiers (after \"&\") \n",
    "def clean_url(url):\n",
    "    cleaned_url = url.split('&')[0]\n",
    "    return cleaned_url\n",
    "\n",
    "#function to extract the full text of an article from its URL\n",
    "def get_full_text(url):\n",
    "    try:\n",
    "        article = Article(url)\n",
    "        article.download()\n",
    "        article.parse()\n",
    "        return article.text\n",
    "    except Exception as e:\n",
    "        print(f\"Error fetching article: {e}\")\n",
    "        return \"Text not available\""
   ]
  },
  {
   "cell_type": "code",
   "execution_count": 49,
   "id": "65a4b9c3-f2da-4116-92ab-38958b3f3fd0",
   "metadata": {},
   "outputs": [
    {
     "name": "stdout",
     "output_type": "stream",
     "text": [
      "Fetching text for article 1 of 300\n",
      "Fetching text for article 2 of 300\n",
      "Fetching text for article 3 of 300\n"
     ]
    },
    {
     "name": "stderr",
     "output_type": "stream",
     "text": [
      "WARNING:newspaper.network:get_html_status(): bad status code 403 on URL: https://www.ctinsider.com/news/world/article/el-senado-de-mexico-aprueba-una-controversial-19756945.php, html: <!DOCTYPE html>\n",
      "<html lang=\"en\">\n",
      "<head>\n",
      "    <meta charset=\"utf-8\">\n",
      "    <meta name=\"viewport\" content=\"width=device-width, initial-scale=1\">\n",
      "    <meta name=\"description\" content=\"px-captcha\">\n",
      "    <titl\n"
     ]
    },
    {
     "name": "stdout",
     "output_type": "stream",
     "text": [
      "Error fetching article: Article `download()` failed with Website protected with PerimeterX, url: None on URL https://www.ctinsider.com/news/world/article/el-senado-de-mexico-aprueba-una-controversial-19756945.php\n",
      "Fetching text for article 4 of 300\n"
     ]
    },
    {
     "name": "stderr",
     "output_type": "stream",
     "text": [
      "WARNING:newspaper.network:get_html_status(): bad status code 403 on URL: https://www.manisteenews.com/news/world/article/el-senado-de-mexico-aprueba-una-controversial-19756945.php, html: <!DOCTYPE html>\n",
      "<html lang=\"en\">\n",
      "<head>\n",
      "    <meta charset=\"utf-8\">\n",
      "    <meta name=\"viewport\" content=\"width=device-width, initial-scale=1\">\n",
      "    <meta name=\"description\" content=\"px-captcha\">\n",
      "    <titl\n"
     ]
    },
    {
     "name": "stdout",
     "output_type": "stream",
     "text": [
      "Error fetching article: Article `download()` failed with Website protected with PerimeterX, url: None on URL https://www.manisteenews.com/news/world/article/el-senado-de-mexico-aprueba-una-controversial-19756945.php\n",
      "Fetching text for article 5 of 300\n",
      "Fetching text for article 6 of 300\n"
     ]
    },
    {
     "name": "stderr",
     "output_type": "stream",
     "text": [
      "WARNING:newspaper.network:get_html_status(): bad status code 403 on URL: https://bajanews.mx/noticias/32101/People-injured-in-protest-over-judicial-reform-at-congress-Mexicali, html: <!DOCTYPE html>\n",
      "<!--[if lt IE 7]> <html class=\"no-js ie6 oldie\" lang=\"en-US\"> <![endif]-->\n",
      "<!--[if IE 7]>    <html class=\"no-js ie7 oldie\" lang=\"en-US\"> <![endif]-->\n",
      "<!--[if IE 8]>    <html class=\"no-\n"
     ]
    },
    {
     "name": "stdout",
     "output_type": "stream",
     "text": [
      "Error fetching article: Article `download()` failed with Website protected with Cloudflare, url: None on URL https://bajanews.mx/noticias/32101/People-injured-in-protest-over-judicial-reform-at-congress-Mexicali\n",
      "Fetching text for article 7 of 300\n",
      "Fetching text for article 8 of 300\n"
     ]
    },
    {
     "name": "stderr",
     "output_type": "stream",
     "text": [
      "WARNING:newspaper.network:get_html_status(): bad status code 401 on URL: https://www.reuters.com/world/americas/mexican-senate-gives-general-approval-judicial-reform-nears-final-approval-2024-09-11/, html: <html><head><title>reuters.com</title><style>#cmsg{animation: A 1.5s;}@keyframes A{0%{opacity:0;}99%{opacity:0;}100%{opacity:1;}}</style></head><body style=\"margin:0\"><p id=\"cmsg\">Please enable JS and\n"
     ]
    },
    {
     "name": "stdout",
     "output_type": "stream",
     "text": [
      "Error fetching article: Article `download()` failed with Status code 401 for url None on URL https://www.reuters.com/world/americas/mexican-senate-gives-general-approval-judicial-reform-nears-final-approval-2024-09-11/\n",
      "Fetching text for article 9 of 300\n"
     ]
    },
    {
     "name": "stderr",
     "output_type": "stream",
     "text": [
      "WARNING:newspaper.network:get_html_status(): bad status code 429 on URL: https://www.youtube.com/watch%3Fv%3DSr9Z0zlxrbw, html: <!DOCTYPE html PUBLIC \"-//W3C//DTD HTML 4.01 Transitional//EN\">\n",
      "<html>\n",
      "<head><meta http-equiv=\"content-type\" content=\"text/html; charset=utf-8\"><meta name=\"viewport\" content=\"initial-scale=1\"><title>h\n"
     ]
    },
    {
     "name": "stdout",
     "output_type": "stream",
     "text": [
      "Error fetching article: Article `download()` failed with Status code 429 for url None on URL https://www.youtube.com/watch%3Fv%3DSr9Z0zlxrbw\n",
      "Fetching text for article 10 of 300\n"
     ]
    },
    {
     "name": "stderr",
     "output_type": "stream",
     "text": [
      "WARNING:newspaper.network:get_html_status(): bad status code 429 on URL: https://www.youtube.com/watch%3Fv%3DHVt1w3d3bSM, html: <!DOCTYPE html PUBLIC \"-//W3C//DTD HTML 4.01 Transitional//EN\">\n",
      "<html>\n",
      "<head><meta http-equiv=\"content-type\" content=\"text/html; charset=utf-8\"><meta name=\"viewport\" content=\"initial-scale=1\"><title>h\n"
     ]
    },
    {
     "name": "stdout",
     "output_type": "stream",
     "text": [
      "Error fetching article: Article `download()` failed with Status code 429 for url None on URL https://www.youtube.com/watch%3Fv%3DHVt1w3d3bSM\n",
      "Fetching text for article 11 of 300\n",
      "Fetching text for article 12 of 300\n",
      "Fetching text for article 13 of 300\n"
     ]
    },
    {
     "name": "stderr",
     "output_type": "stream",
     "text": [
      "WARNING:newspaper.network:get_html_status(): bad status code 403 on URL: https://www.ctinsider.com/news/world/article/el-senado-de-mexico-aprueba-una-controversial-19756945.php, html: <!DOCTYPE html>\n",
      "<html lang=\"en\">\n",
      "<head>\n",
      "    <meta charset=\"utf-8\">\n",
      "    <meta name=\"viewport\" content=\"width=device-width, initial-scale=1\">\n",
      "    <meta name=\"description\" content=\"px-captcha\">\n",
      "    <titl\n"
     ]
    },
    {
     "name": "stdout",
     "output_type": "stream",
     "text": [
      "Error fetching article: Article `download()` failed with Website protected with PerimeterX, url: None on URL https://www.ctinsider.com/news/world/article/el-senado-de-mexico-aprueba-una-controversial-19756945.php\n",
      "Fetching text for article 14 of 300\n"
     ]
    },
    {
     "name": "stderr",
     "output_type": "stream",
     "text": [
      "WARNING:newspaper.network:get_html_status(): bad status code 403 on URL: https://www.manisteenews.com/news/world/article/el-senado-de-mexico-aprueba-una-controversial-19756945.php, html: <!DOCTYPE html>\n",
      "<html lang=\"en\">\n",
      "<head>\n",
      "    <meta charset=\"utf-8\">\n",
      "    <meta name=\"viewport\" content=\"width=device-width, initial-scale=1\">\n",
      "    <meta name=\"description\" content=\"px-captcha\">\n",
      "    <titl\n"
     ]
    },
    {
     "name": "stdout",
     "output_type": "stream",
     "text": [
      "Error fetching article: Article `download()` failed with Website protected with PerimeterX, url: None on URL https://www.manisteenews.com/news/world/article/el-senado-de-mexico-aprueba-una-controversial-19756945.php\n",
      "Fetching text for article 15 of 300\n",
      "Fetching text for article 16 of 300\n"
     ]
    },
    {
     "name": "stderr",
     "output_type": "stream",
     "text": [
      "WARNING:newspaper.network:get_html_status(): bad status code 403 on URL: https://bajanews.mx/noticias/32101/People-injured-in-protest-over-judicial-reform-at-congress-Mexicali, html: <!DOCTYPE html>\n",
      "<!--[if lt IE 7]> <html class=\"no-js ie6 oldie\" lang=\"en-US\"> <![endif]-->\n",
      "<!--[if IE 7]>    <html class=\"no-js ie7 oldie\" lang=\"en-US\"> <![endif]-->\n",
      "<!--[if IE 8]>    <html class=\"no-\n"
     ]
    },
    {
     "name": "stdout",
     "output_type": "stream",
     "text": [
      "Error fetching article: Article `download()` failed with Website protected with Cloudflare, url: None on URL https://bajanews.mx/noticias/32101/People-injured-in-protest-over-judicial-reform-at-congress-Mexicali\n",
      "Fetching text for article 17 of 300\n",
      "Fetching text for article 18 of 300\n"
     ]
    },
    {
     "name": "stderr",
     "output_type": "stream",
     "text": [
      "WARNING:newspaper.network:get_html_status(): bad status code 401 on URL: https://www.reuters.com/world/americas/mexican-senate-gives-general-approval-judicial-reform-nears-final-approval-2024-09-11/, html: <html><head><title>reuters.com</title><style>#cmsg{animation: A 1.5s;}@keyframes A{0%{opacity:0;}99%{opacity:0;}100%{opacity:1;}}</style></head><body style=\"margin:0\"><p id=\"cmsg\">Please enable JS and\n"
     ]
    },
    {
     "name": "stdout",
     "output_type": "stream",
     "text": [
      "Error fetching article: Article `download()` failed with Status code 401 for url None on URL https://www.reuters.com/world/americas/mexican-senate-gives-general-approval-judicial-reform-nears-final-approval-2024-09-11/\n",
      "Fetching text for article 19 of 300\n"
     ]
    },
    {
     "name": "stderr",
     "output_type": "stream",
     "text": [
      "WARNING:newspaper.network:get_html_status(): bad status code 429 on URL: https://www.youtube.com/watch%3Fv%3DSr9Z0zlxrbw, html: <!DOCTYPE html PUBLIC \"-//W3C//DTD HTML 4.01 Transitional//EN\">\n",
      "<html>\n",
      "<head><meta http-equiv=\"content-type\" content=\"text/html; charset=utf-8\"><meta name=\"viewport\" content=\"initial-scale=1\"><title>h\n"
     ]
    },
    {
     "name": "stdout",
     "output_type": "stream",
     "text": [
      "Error fetching article: Article `download()` failed with Status code 429 for url None on URL https://www.youtube.com/watch%3Fv%3DSr9Z0zlxrbw\n",
      "Fetching text for article 20 of 300\n"
     ]
    },
    {
     "name": "stderr",
     "output_type": "stream",
     "text": [
      "WARNING:newspaper.network:get_html_status(): bad status code 429 on URL: https://www.youtube.com/watch%3Fv%3DHVt1w3d3bSM, html: <!DOCTYPE html PUBLIC \"-//W3C//DTD HTML 4.01 Transitional//EN\">\n",
      "<html>\n",
      "<head><meta http-equiv=\"content-type\" content=\"text/html; charset=utf-8\"><meta name=\"viewport\" content=\"initial-scale=1\"><title>h\n"
     ]
    },
    {
     "name": "stdout",
     "output_type": "stream",
     "text": [
      "Error fetching article: Article `download()` failed with Status code 429 for url None on URL https://www.youtube.com/watch%3Fv%3DHVt1w3d3bSM\n",
      "Fetching text for article 21 of 300\n",
      "Fetching text for article 22 of 300\n",
      "Fetching text for article 23 of 300\n"
     ]
    },
    {
     "name": "stderr",
     "output_type": "stream",
     "text": [
      "WARNING:newspaper.network:get_html_status(): bad status code 429 on URL: https://www.youtube.com/watch%3Fv%3DxxY55NG_Gnk, html: <!DOCTYPE html PUBLIC \"-//W3C//DTD HTML 4.01 Transitional//EN\">\n",
      "<html>\n",
      "<head><meta http-equiv=\"content-type\" content=\"text/html; charset=utf-8\"><meta name=\"viewport\" content=\"initial-scale=1\"><title>h\n"
     ]
    },
    {
     "name": "stdout",
     "output_type": "stream",
     "text": [
      "Error fetching article: Article `download()` failed with Status code 429 for url None on URL https://www.youtube.com/watch%3Fv%3DxxY55NG_Gnk\n",
      "Fetching text for article 24 of 300\n"
     ]
    },
    {
     "name": "stderr",
     "output_type": "stream",
     "text": [
      "WARNING:newspaper.network:get_html_status(): bad status code 403 on URL: https://www.ctpost.com/news/world/article/el-senado-de-mexico-aprueba-una-controversial-19756945.php, html: <!DOCTYPE html>\n",
      "<html lang=\"en\">\n",
      "<head>\n",
      "    <meta charset=\"utf-8\">\n",
      "    <meta name=\"viewport\" content=\"width=device-width, initial-scale=1\">\n",
      "    <meta name=\"description\" content=\"px-captcha\">\n",
      "    <titl\n"
     ]
    },
    {
     "name": "stdout",
     "output_type": "stream",
     "text": [
      "Error fetching article: Article `download()` failed with Website protected with PerimeterX, url: None on URL https://www.ctpost.com/news/world/article/el-senado-de-mexico-aprueba-una-controversial-19756945.php\n",
      "Fetching text for article 25 of 300\n",
      "Fetching text for article 26 of 300\n",
      "Fetching text for article 27 of 300\n"
     ]
    },
    {
     "name": "stderr",
     "output_type": "stream",
     "text": [
      "WARNING:newspaper.network:get_html_status(): bad status code 403 on URL: https://headtopics.com/us/manifestantes-irrumpen-en-el-senado-de-mexico-durante-58814315, html: <!DOCTYPE html>\n",
      "<!--[if lt IE 7]> <html class=\"no-js ie6 oldie\" lang=\"en-US\"> <![endif]-->\n",
      "<!--[if IE 7]>    <html class=\"no-js ie7 oldie\" lang=\"en-US\"> <![endif]-->\n",
      "<!--[if IE 8]>    <html class=\"no-\n"
     ]
    },
    {
     "name": "stdout",
     "output_type": "stream",
     "text": [
      "Error fetching article: Article `download()` failed with Website protected with Cloudflare, url: None on URL https://headtopics.com/us/manifestantes-irrumpen-en-el-senado-de-mexico-durante-58814315\n",
      "Fetching text for article 28 of 300\n",
      "Fetching text for article 29 of 300\n",
      "Fetching text for article 30 of 300\n"
     ]
    },
    {
     "name": "stderr",
     "output_type": "stream",
     "text": [
      "WARNING:newspaper.network:get_html_status(): bad status code 403 on URL: https://www.wsj.com/world/americas/mexican-legislature-passes-judicial-overhaul-5399e8ff, html: <!DOCTYPE html><html lang=\"en-US\"><head><meta charSet=\"utf-8\"/><meta name=\"viewport\" content=\"width=device-width\"/><link data-ace-id=\"ace-link-8\" as=\"script\" href=\"https://www.wsj.com/asset/ace/ace.mi\n"
     ]
    },
    {
     "name": "stdout",
     "output_type": "stream",
     "text": [
      "Error fetching article: Article `download()` failed with Status code 403 for url None on URL https://www.wsj.com/world/americas/mexican-legislature-passes-judicial-overhaul-5399e8ff\n",
      "Fetching text for article 31 of 300\n",
      "Fetching text for article 32 of 300\n",
      "Fetching text for article 33 of 300\n"
     ]
    },
    {
     "name": "stderr",
     "output_type": "stream",
     "text": [
      "WARNING:newspaper.network:get_html_status(): bad status code 403 on URL: https://www.ctinsider.com/news/world/article/el-senado-de-mexico-aprueba-una-controversial-19756945.php, html: <!DOCTYPE html>\n",
      "<html lang=\"en\">\n",
      "<head>\n",
      "    <meta charset=\"utf-8\">\n",
      "    <meta name=\"viewport\" content=\"width=device-width, initial-scale=1\">\n",
      "    <meta name=\"description\" content=\"px-captcha\">\n",
      "    <titl\n"
     ]
    },
    {
     "name": "stdout",
     "output_type": "stream",
     "text": [
      "Error fetching article: Article `download()` failed with Website protected with PerimeterX, url: None on URL https://www.ctinsider.com/news/world/article/el-senado-de-mexico-aprueba-una-controversial-19756945.php\n",
      "Fetching text for article 34 of 300\n"
     ]
    },
    {
     "name": "stderr",
     "output_type": "stream",
     "text": [
      "WARNING:newspaper.network:get_html_status(): bad status code 403 on URL: https://www.manisteenews.com/news/world/article/el-senado-de-mexico-aprueba-una-controversial-19756945.php, html: <!DOCTYPE html>\n",
      "<html lang=\"en\">\n",
      "<head>\n",
      "    <meta charset=\"utf-8\">\n",
      "    <meta name=\"viewport\" content=\"width=device-width, initial-scale=1\">\n",
      "    <meta name=\"description\" content=\"px-captcha\">\n",
      "    <titl\n"
     ]
    },
    {
     "name": "stdout",
     "output_type": "stream",
     "text": [
      "Error fetching article: Article `download()` failed with Website protected with PerimeterX, url: None on URL https://www.manisteenews.com/news/world/article/el-senado-de-mexico-aprueba-una-controversial-19756945.php\n",
      "Fetching text for article 35 of 300\n",
      "Fetching text for article 36 of 300\n"
     ]
    },
    {
     "name": "stderr",
     "output_type": "stream",
     "text": [
      "WARNING:newspaper.network:get_html_status(): bad status code 403 on URL: https://bajanews.mx/noticias/32101/People-injured-in-protest-over-judicial-reform-at-congress-Mexicali, html: <!DOCTYPE html>\n",
      "<!--[if lt IE 7]> <html class=\"no-js ie6 oldie\" lang=\"en-US\"> <![endif]-->\n",
      "<!--[if IE 7]>    <html class=\"no-js ie7 oldie\" lang=\"en-US\"> <![endif]-->\n",
      "<!--[if IE 8]>    <html class=\"no-\n"
     ]
    },
    {
     "name": "stdout",
     "output_type": "stream",
     "text": [
      "Error fetching article: Article `download()` failed with Website protected with Cloudflare, url: None on URL https://bajanews.mx/noticias/32101/People-injured-in-protest-over-judicial-reform-at-congress-Mexicali\n",
      "Fetching text for article 37 of 300\n",
      "Fetching text for article 38 of 300\n"
     ]
    },
    {
     "name": "stderr",
     "output_type": "stream",
     "text": [
      "WARNING:newspaper.network:get_html_status(): bad status code 401 on URL: https://www.reuters.com/world/americas/mexican-senate-gives-general-approval-judicial-reform-nears-final-approval-2024-09-11/, html: <html><head><title>reuters.com</title><style>#cmsg{animation: A 1.5s;}@keyframes A{0%{opacity:0;}99%{opacity:0;}100%{opacity:1;}}</style></head><body style=\"margin:0\"><p id=\"cmsg\">Please enable JS and\n"
     ]
    },
    {
     "name": "stdout",
     "output_type": "stream",
     "text": [
      "Error fetching article: Article `download()` failed with Status code 401 for url None on URL https://www.reuters.com/world/americas/mexican-senate-gives-general-approval-judicial-reform-nears-final-approval-2024-09-11/\n",
      "Fetching text for article 39 of 300\n"
     ]
    },
    {
     "name": "stderr",
     "output_type": "stream",
     "text": [
      "WARNING:newspaper.network:get_html_status(): bad status code 429 on URL: https://www.youtube.com/watch%3Fv%3DSr9Z0zlxrbw, html: <!DOCTYPE html PUBLIC \"-//W3C//DTD HTML 4.01 Transitional//EN\">\n",
      "<html>\n",
      "<head><meta http-equiv=\"content-type\" content=\"text/html; charset=utf-8\"><meta name=\"viewport\" content=\"initial-scale=1\"><title>h\n"
     ]
    },
    {
     "name": "stdout",
     "output_type": "stream",
     "text": [
      "Error fetching article: Article `download()` failed with Status code 429 for url None on URL https://www.youtube.com/watch%3Fv%3DSr9Z0zlxrbw\n",
      "Fetching text for article 40 of 300\n"
     ]
    },
    {
     "name": "stderr",
     "output_type": "stream",
     "text": [
      "WARNING:newspaper.network:get_html_status(): bad status code 429 on URL: https://www.youtube.com/watch%3Fv%3DHVt1w3d3bSM, html: <!DOCTYPE html PUBLIC \"-//W3C//DTD HTML 4.01 Transitional//EN\">\n",
      "<html>\n",
      "<head><meta http-equiv=\"content-type\" content=\"text/html; charset=utf-8\"><meta name=\"viewport\" content=\"initial-scale=1\"><title>h\n"
     ]
    },
    {
     "name": "stdout",
     "output_type": "stream",
     "text": [
      "Error fetching article: Article `download()` failed with Status code 429 for url None on URL https://www.youtube.com/watch%3Fv%3DHVt1w3d3bSM\n",
      "Fetching text for article 41 of 300\n",
      "Fetching text for article 42 of 300\n",
      "Fetching text for article 43 of 300\n"
     ]
    },
    {
     "name": "stderr",
     "output_type": "stream",
     "text": [
      "WARNING:newspaper.network:get_html_status(): bad status code 429 on URL: https://www.youtube.com/watch%3Fv%3DxxY55NG_Gnk, html: <!DOCTYPE html PUBLIC \"-//W3C//DTD HTML 4.01 Transitional//EN\">\n",
      "<html>\n",
      "<head><meta http-equiv=\"content-type\" content=\"text/html; charset=utf-8\"><meta name=\"viewport\" content=\"initial-scale=1\"><title>h\n"
     ]
    },
    {
     "name": "stdout",
     "output_type": "stream",
     "text": [
      "Error fetching article: Article `download()` failed with Status code 429 for url None on URL https://www.youtube.com/watch%3Fv%3DxxY55NG_Gnk\n",
      "Fetching text for article 44 of 300\n"
     ]
    },
    {
     "name": "stderr",
     "output_type": "stream",
     "text": [
      "WARNING:newspaper.network:get_html_status(): bad status code 403 on URL: https://www.ctpost.com/news/world/article/el-senado-de-mexico-aprueba-una-controversial-19756945.php, html: <!DOCTYPE html>\n",
      "<html lang=\"en\">\n",
      "<head>\n",
      "    <meta charset=\"utf-8\">\n",
      "    <meta name=\"viewport\" content=\"width=device-width, initial-scale=1\">\n",
      "    <meta name=\"description\" content=\"px-captcha\">\n",
      "    <titl\n"
     ]
    },
    {
     "name": "stdout",
     "output_type": "stream",
     "text": [
      "Error fetching article: Article `download()` failed with Website protected with PerimeterX, url: None on URL https://www.ctpost.com/news/world/article/el-senado-de-mexico-aprueba-una-controversial-19756945.php\n",
      "Fetching text for article 45 of 300\n",
      "Fetching text for article 46 of 300\n",
      "Fetching text for article 47 of 300\n"
     ]
    },
    {
     "name": "stderr",
     "output_type": "stream",
     "text": [
      "WARNING:newspaper.network:get_html_status(): bad status code 403 on URL: https://headtopics.com/us/manifestantes-irrumpen-en-el-senado-de-mexico-durante-58814315, html: <!DOCTYPE html>\n",
      "<!--[if lt IE 7]> <html class=\"no-js ie6 oldie\" lang=\"en-US\"> <![endif]-->\n",
      "<!--[if IE 7]>    <html class=\"no-js ie7 oldie\" lang=\"en-US\"> <![endif]-->\n",
      "<!--[if IE 8]>    <html class=\"no-\n"
     ]
    },
    {
     "name": "stdout",
     "output_type": "stream",
     "text": [
      "Error fetching article: Article `download()` failed with Website protected with Cloudflare, url: None on URL https://headtopics.com/us/manifestantes-irrumpen-en-el-senado-de-mexico-durante-58814315\n",
      "Fetching text for article 48 of 300\n",
      "Fetching text for article 49 of 300\n",
      "Fetching text for article 50 of 300\n"
     ]
    },
    {
     "name": "stderr",
     "output_type": "stream",
     "text": [
      "WARNING:newspaper.network:get_html_status(): bad status code 403 on URL: https://www.wsj.com/world/americas/mexican-legislature-passes-judicial-overhaul-5399e8ff, html: <!DOCTYPE html><html lang=\"en-US\"><head><meta charSet=\"utf-8\"/><meta name=\"viewport\" content=\"width=device-width\"/><link data-ace-id=\"ace-link-8\" as=\"script\" href=\"https://www.wsj.com/asset/ace/ace.mi\n"
     ]
    },
    {
     "name": "stdout",
     "output_type": "stream",
     "text": [
      "Error fetching article: Article `download()` failed with Status code 403 for url None on URL https://www.wsj.com/world/americas/mexican-legislature-passes-judicial-overhaul-5399e8ff\n",
      "Fetching text for article 51 of 300\n"
     ]
    },
    {
     "name": "stderr",
     "output_type": "stream",
     "text": [
      "WARNING:newspaper.network:get_html_status(): bad status code 429 on URL: https://www.youtube.com/watch%3Fv%3DNOJNJS_0ev4, html: <!DOCTYPE html PUBLIC \"-//W3C//DTD HTML 4.01 Transitional//EN\">\n",
      "<html>\n",
      "<head><meta http-equiv=\"content-type\" content=\"text/html; charset=utf-8\"><meta name=\"viewport\" content=\"initial-scale=1\"><title>h\n"
     ]
    },
    {
     "name": "stdout",
     "output_type": "stream",
     "text": [
      "Error fetching article: Article `download()` failed with Status code 429 for url None on URL https://www.youtube.com/watch%3Fv%3DNOJNJS_0ev4\n",
      "Fetching text for article 52 of 300\n",
      "Fetching text for article 53 of 300\n",
      "Fetching text for article 54 of 300\n"
     ]
    },
    {
     "name": "stderr",
     "output_type": "stream",
     "text": [
      "WARNING:newspaper.network:get_html_status(): bad status code 403 on URL: https://www.courthousenews.com/mexican-judges-strengthen-fight-against-judicial-reform/, html: <!DOCTYPE html>\n",
      "<!--[if lt IE 7]> <html class=\"no-js ie6 oldie\" lang=\"en-US\"> <![endif]-->\n",
      "<!--[if IE 7]>    <html class=\"no-js ie7 oldie\" lang=\"en-US\"> <![endif]-->\n",
      "<!--[if IE 8]>    <html class=\"no-\n"
     ]
    },
    {
     "name": "stdout",
     "output_type": "stream",
     "text": [
      "Error fetching article: Article `download()` failed with Website protected with Cloudflare, url: None on URL https://www.courthousenews.com/mexican-judges-strengthen-fight-against-judicial-reform/\n",
      "Fetching text for article 55 of 300\n",
      "Fetching text for article 56 of 300\n",
      "Fetching text for article 57 of 300\n",
      "Fetching text for article 58 of 300\n",
      "Fetching text for article 59 of 300\n",
      "Fetching text for article 60 of 300\n",
      "Fetching text for article 61 of 300\n",
      "Fetching text for article 62 of 300\n",
      "Fetching text for article 63 of 300\n"
     ]
    },
    {
     "name": "stderr",
     "output_type": "stream",
     "text": [
      "WARNING:newspaper.network:get_html_status(): bad status code 403 on URL: https://www.ctinsider.com/news/world/article/el-senado-de-mexico-aprueba-una-controversial-19756945.php, html: <!DOCTYPE html>\n",
      "<html lang=\"en\">\n",
      "<head>\n",
      "    <meta charset=\"utf-8\">\n",
      "    <meta name=\"viewport\" content=\"width=device-width, initial-scale=1\">\n",
      "    <meta name=\"description\" content=\"px-captcha\">\n",
      "    <titl\n"
     ]
    },
    {
     "name": "stdout",
     "output_type": "stream",
     "text": [
      "Error fetching article: Article `download()` failed with Website protected with PerimeterX, url: None on URL https://www.ctinsider.com/news/world/article/el-senado-de-mexico-aprueba-una-controversial-19756945.php\n",
      "Fetching text for article 64 of 300\n"
     ]
    },
    {
     "name": "stderr",
     "output_type": "stream",
     "text": [
      "WARNING:newspaper.network:get_html_status(): bad status code 403 on URL: https://www.manisteenews.com/news/world/article/el-senado-de-mexico-aprueba-una-controversial-19756945.php, html: <!DOCTYPE html>\n",
      "<html lang=\"en\">\n",
      "<head>\n",
      "    <meta charset=\"utf-8\">\n",
      "    <meta name=\"viewport\" content=\"width=device-width, initial-scale=1\">\n",
      "    <meta name=\"description\" content=\"px-captcha\">\n",
      "    <titl\n"
     ]
    },
    {
     "name": "stdout",
     "output_type": "stream",
     "text": [
      "Error fetching article: Article `download()` failed with Website protected with PerimeterX, url: None on URL https://www.manisteenews.com/news/world/article/el-senado-de-mexico-aprueba-una-controversial-19756945.php\n",
      "Fetching text for article 65 of 300\n",
      "Fetching text for article 66 of 300\n"
     ]
    },
    {
     "name": "stderr",
     "output_type": "stream",
     "text": [
      "WARNING:newspaper.network:get_html_status(): bad status code 403 on URL: https://bajanews.mx/noticias/32101/People-injured-in-protest-over-judicial-reform-at-congress-Mexicali, html: <!DOCTYPE html>\n",
      "<!--[if lt IE 7]> <html class=\"no-js ie6 oldie\" lang=\"en-US\"> <![endif]-->\n",
      "<!--[if IE 7]>    <html class=\"no-js ie7 oldie\" lang=\"en-US\"> <![endif]-->\n",
      "<!--[if IE 8]>    <html class=\"no-\n"
     ]
    },
    {
     "name": "stdout",
     "output_type": "stream",
     "text": [
      "Error fetching article: Article `download()` failed with Website protected with Cloudflare, url: None on URL https://bajanews.mx/noticias/32101/People-injured-in-protest-over-judicial-reform-at-congress-Mexicali\n",
      "Fetching text for article 67 of 300\n",
      "Fetching text for article 68 of 300\n"
     ]
    },
    {
     "name": "stderr",
     "output_type": "stream",
     "text": [
      "WARNING:newspaper.network:get_html_status(): bad status code 401 on URL: https://www.reuters.com/world/americas/mexican-senate-gives-general-approval-judicial-reform-nears-final-approval-2024-09-11/, html: <html><head><title>reuters.com</title><style>#cmsg{animation: A 1.5s;}@keyframes A{0%{opacity:0;}99%{opacity:0;}100%{opacity:1;}}</style></head><body style=\"margin:0\"><p id=\"cmsg\">Please enable JS and\n"
     ]
    },
    {
     "name": "stdout",
     "output_type": "stream",
     "text": [
      "Error fetching article: Article `download()` failed with Status code 401 for url None on URL https://www.reuters.com/world/americas/mexican-senate-gives-general-approval-judicial-reform-nears-final-approval-2024-09-11/\n",
      "Fetching text for article 69 of 300\n"
     ]
    },
    {
     "name": "stderr",
     "output_type": "stream",
     "text": [
      "WARNING:newspaper.network:get_html_status(): bad status code 429 on URL: https://www.youtube.com/watch%3Fv%3DSr9Z0zlxrbw, html: <!DOCTYPE html PUBLIC \"-//W3C//DTD HTML 4.01 Transitional//EN\">\n",
      "<html>\n",
      "<head><meta http-equiv=\"content-type\" content=\"text/html; charset=utf-8\"><meta name=\"viewport\" content=\"initial-scale=1\"><title>h\n"
     ]
    },
    {
     "name": "stdout",
     "output_type": "stream",
     "text": [
      "Error fetching article: Article `download()` failed with Status code 429 for url None on URL https://www.youtube.com/watch%3Fv%3DSr9Z0zlxrbw\n",
      "Fetching text for article 70 of 300\n"
     ]
    },
    {
     "name": "stderr",
     "output_type": "stream",
     "text": [
      "WARNING:newspaper.network:get_html_status(): bad status code 429 on URL: https://www.youtube.com/watch%3Fv%3DHVt1w3d3bSM, html: <!DOCTYPE html PUBLIC \"-//W3C//DTD HTML 4.01 Transitional//EN\">\n",
      "<html>\n",
      "<head><meta http-equiv=\"content-type\" content=\"text/html; charset=utf-8\"><meta name=\"viewport\" content=\"initial-scale=1\"><title>h\n"
     ]
    },
    {
     "name": "stdout",
     "output_type": "stream",
     "text": [
      "Error fetching article: Article `download()` failed with Status code 429 for url None on URL https://www.youtube.com/watch%3Fv%3DHVt1w3d3bSM\n",
      "Fetching text for article 71 of 300\n",
      "Fetching text for article 72 of 300\n",
      "Fetching text for article 73 of 300\n"
     ]
    },
    {
     "name": "stderr",
     "output_type": "stream",
     "text": [
      "WARNING:newspaper.network:get_html_status(): bad status code 429 on URL: https://www.youtube.com/watch%3Fv%3DxxY55NG_Gnk, html: <!DOCTYPE html PUBLIC \"-//W3C//DTD HTML 4.01 Transitional//EN\">\n",
      "<html>\n",
      "<head><meta http-equiv=\"content-type\" content=\"text/html; charset=utf-8\"><meta name=\"viewport\" content=\"initial-scale=1\"><title>h\n"
     ]
    },
    {
     "name": "stdout",
     "output_type": "stream",
     "text": [
      "Error fetching article: Article `download()` failed with Status code 429 for url None on URL https://www.youtube.com/watch%3Fv%3DxxY55NG_Gnk\n",
      "Fetching text for article 74 of 300\n"
     ]
    },
    {
     "name": "stderr",
     "output_type": "stream",
     "text": [
      "WARNING:newspaper.network:get_html_status(): bad status code 403 on URL: https://www.ctpost.com/news/world/article/el-senado-de-mexico-aprueba-una-controversial-19756945.php, html: <!DOCTYPE html>\n",
      "<html lang=\"en\">\n",
      "<head>\n",
      "    <meta charset=\"utf-8\">\n",
      "    <meta name=\"viewport\" content=\"width=device-width, initial-scale=1\">\n",
      "    <meta name=\"description\" content=\"px-captcha\">\n",
      "    <titl\n"
     ]
    },
    {
     "name": "stdout",
     "output_type": "stream",
     "text": [
      "Error fetching article: Article `download()` failed with Website protected with PerimeterX, url: None on URL https://www.ctpost.com/news/world/article/el-senado-de-mexico-aprueba-una-controversial-19756945.php\n",
      "Fetching text for article 75 of 300\n",
      "Fetching text for article 76 of 300\n",
      "Fetching text for article 77 of 300\n"
     ]
    },
    {
     "name": "stderr",
     "output_type": "stream",
     "text": [
      "WARNING:newspaper.network:get_html_status(): bad status code 403 on URL: https://headtopics.com/us/manifestantes-irrumpen-en-el-senado-de-mexico-durante-58814315, html: <!DOCTYPE html>\n",
      "<!--[if lt IE 7]> <html class=\"no-js ie6 oldie\" lang=\"en-US\"> <![endif]-->\n",
      "<!--[if IE 7]>    <html class=\"no-js ie7 oldie\" lang=\"en-US\"> <![endif]-->\n",
      "<!--[if IE 8]>    <html class=\"no-\n"
     ]
    },
    {
     "name": "stdout",
     "output_type": "stream",
     "text": [
      "Error fetching article: Article `download()` failed with Website protected with Cloudflare, url: None on URL https://headtopics.com/us/manifestantes-irrumpen-en-el-senado-de-mexico-durante-58814315\n",
      "Fetching text for article 78 of 300\n",
      "Fetching text for article 79 of 300\n",
      "Fetching text for article 80 of 300\n"
     ]
    },
    {
     "name": "stderr",
     "output_type": "stream",
     "text": [
      "WARNING:newspaper.network:get_html_status(): bad status code 403 on URL: https://www.wsj.com/world/americas/mexican-legislature-passes-judicial-overhaul-5399e8ff, html: <!DOCTYPE html><html lang=\"en-US\"><head><meta charSet=\"utf-8\"/><meta name=\"viewport\" content=\"width=device-width\"/><link data-ace-id=\"ace-link-8\" as=\"script\" href=\"https://www.wsj.com/asset/ace/ace.mi\n"
     ]
    },
    {
     "name": "stdout",
     "output_type": "stream",
     "text": [
      "Error fetching article: Article `download()` failed with Status code 403 for url None on URL https://www.wsj.com/world/americas/mexican-legislature-passes-judicial-overhaul-5399e8ff\n",
      "Fetching text for article 81 of 300\n"
     ]
    },
    {
     "name": "stderr",
     "output_type": "stream",
     "text": [
      "WARNING:newspaper.network:get_html_status(): bad status code 429 on URL: https://www.youtube.com/watch%3Fv%3DNOJNJS_0ev4, html: <!DOCTYPE html PUBLIC \"-//W3C//DTD HTML 4.01 Transitional//EN\">\n",
      "<html>\n",
      "<head><meta http-equiv=\"content-type\" content=\"text/html; charset=utf-8\"><meta name=\"viewport\" content=\"initial-scale=1\"><title>h\n"
     ]
    },
    {
     "name": "stdout",
     "output_type": "stream",
     "text": [
      "Error fetching article: Article `download()` failed with Status code 429 for url None on URL https://www.youtube.com/watch%3Fv%3DNOJNJS_0ev4\n",
      "Fetching text for article 82 of 300\n",
      "Fetching text for article 83 of 300\n",
      "Fetching text for article 84 of 300\n"
     ]
    },
    {
     "name": "stderr",
     "output_type": "stream",
     "text": [
      "WARNING:newspaper.network:get_html_status(): bad status code 403 on URL: https://www.courthousenews.com/mexican-judges-strengthen-fight-against-judicial-reform/, html: <!DOCTYPE html>\n",
      "<!--[if lt IE 7]> <html class=\"no-js ie6 oldie\" lang=\"en-US\"> <![endif]-->\n",
      "<!--[if IE 7]>    <html class=\"no-js ie7 oldie\" lang=\"en-US\"> <![endif]-->\n",
      "<!--[if IE 8]>    <html class=\"no-\n"
     ]
    },
    {
     "name": "stdout",
     "output_type": "stream",
     "text": [
      "Error fetching article: Article `download()` failed with Website protected with Cloudflare, url: None on URL https://www.courthousenews.com/mexican-judges-strengthen-fight-against-judicial-reform/\n",
      "Fetching text for article 85 of 300\n",
      "Fetching text for article 86 of 300\n",
      "Fetching text for article 87 of 300\n",
      "Fetching text for article 88 of 300\n",
      "Fetching text for article 89 of 300\n",
      "Fetching text for article 90 of 300\n",
      "Fetching text for article 91 of 300\n",
      "Fetching text for article 92 of 300\n",
      "Fetching text for article 93 of 300\n"
     ]
    },
    {
     "name": "stderr",
     "output_type": "stream",
     "text": [
      "WARNING:newspaper.network:get_html_status(): bad status code 403 on URL: https://peoplesdispatch.org/2024/09/06/amlos-last-presidential-battle-the-house-of-representatives-approves-morenas-judicial-reform/, html: <!DOCTYPE html><html lang=\"en-US\"><head><title>Just a moment...</title><meta http-equiv=\"Content-Type\" content=\"text/html; charset=UTF-8\"><meta http-equiv=\"X-UA-Compatible\" content=\"IE=Edge\"><meta nam\n"
     ]
    },
    {
     "name": "stdout",
     "output_type": "stream",
     "text": [
      "Error fetching article: Article `download()` failed with Website protected with Cloudflare, url: None on URL https://peoplesdispatch.org/2024/09/06/amlos-last-presidential-battle-the-house-of-representatives-approves-morenas-judicial-reform/\n",
      "Fetching text for article 94 of 300\n",
      "Fetching text for article 95 of 300\n",
      "Fetching text for article 96 of 300\n",
      "Fetching text for article 97 of 300\n",
      "Fetching text for article 98 of 300\n",
      "Fetching text for article 99 of 300\n",
      "Fetching text for article 100 of 300\n",
      "Fetching text for article 101 of 300\n",
      "Fetching text for article 102 of 300\n",
      "Fetching text for article 103 of 300\n"
     ]
    },
    {
     "name": "stderr",
     "output_type": "stream",
     "text": [
      "WARNING:newspaper.network:get_html_status(): bad status code 403 on URL: https://www.ctinsider.com/news/world/article/el-senado-de-mexico-aprueba-una-controversial-19756945.php, html: <!DOCTYPE html>\n",
      "<html lang=\"en\">\n",
      "<head>\n",
      "    <meta charset=\"utf-8\">\n",
      "    <meta name=\"viewport\" content=\"width=device-width, initial-scale=1\">\n",
      "    <meta name=\"description\" content=\"px-captcha\">\n",
      "    <titl\n"
     ]
    },
    {
     "name": "stdout",
     "output_type": "stream",
     "text": [
      "Error fetching article: Article `download()` failed with Website protected with PerimeterX, url: None on URL https://www.ctinsider.com/news/world/article/el-senado-de-mexico-aprueba-una-controversial-19756945.php\n",
      "Fetching text for article 104 of 300\n"
     ]
    },
    {
     "name": "stderr",
     "output_type": "stream",
     "text": [
      "WARNING:newspaper.network:get_html_status(): bad status code 403 on URL: https://www.manisteenews.com/news/world/article/el-senado-de-mexico-aprueba-una-controversial-19756945.php, html: <!DOCTYPE html>\n",
      "<html lang=\"en\">\n",
      "<head>\n",
      "    <meta charset=\"utf-8\">\n",
      "    <meta name=\"viewport\" content=\"width=device-width, initial-scale=1\">\n",
      "    <meta name=\"description\" content=\"px-captcha\">\n",
      "    <titl\n"
     ]
    },
    {
     "name": "stdout",
     "output_type": "stream",
     "text": [
      "Error fetching article: Article `download()` failed with Website protected with PerimeterX, url: None on URL https://www.manisteenews.com/news/world/article/el-senado-de-mexico-aprueba-una-controversial-19756945.php\n",
      "Fetching text for article 105 of 300\n",
      "Fetching text for article 106 of 300\n"
     ]
    },
    {
     "name": "stderr",
     "output_type": "stream",
     "text": [
      "WARNING:newspaper.network:get_html_status(): bad status code 403 on URL: https://bajanews.mx/noticias/32101/People-injured-in-protest-over-judicial-reform-at-congress-Mexicali, html: <!DOCTYPE html>\n",
      "<!--[if lt IE 7]> <html class=\"no-js ie6 oldie\" lang=\"en-US\"> <![endif]-->\n",
      "<!--[if IE 7]>    <html class=\"no-js ie7 oldie\" lang=\"en-US\"> <![endif]-->\n",
      "<!--[if IE 8]>    <html class=\"no-\n"
     ]
    },
    {
     "name": "stdout",
     "output_type": "stream",
     "text": [
      "Error fetching article: Article `download()` failed with Website protected with Cloudflare, url: None on URL https://bajanews.mx/noticias/32101/People-injured-in-protest-over-judicial-reform-at-congress-Mexicali\n",
      "Fetching text for article 107 of 300\n",
      "Fetching text for article 108 of 300\n"
     ]
    },
    {
     "name": "stderr",
     "output_type": "stream",
     "text": [
      "WARNING:newspaper.network:get_html_status(): bad status code 401 on URL: https://www.reuters.com/world/americas/mexican-senate-gives-general-approval-judicial-reform-nears-final-approval-2024-09-11/, html: <html><head><title>reuters.com</title><style>#cmsg{animation: A 1.5s;}@keyframes A{0%{opacity:0;}99%{opacity:0;}100%{opacity:1;}}</style></head><body style=\"margin:0\"><p id=\"cmsg\">Please enable JS and\n"
     ]
    },
    {
     "name": "stdout",
     "output_type": "stream",
     "text": [
      "Error fetching article: Article `download()` failed with Status code 401 for url None on URL https://www.reuters.com/world/americas/mexican-senate-gives-general-approval-judicial-reform-nears-final-approval-2024-09-11/\n",
      "Fetching text for article 109 of 300\n"
     ]
    },
    {
     "name": "stderr",
     "output_type": "stream",
     "text": [
      "WARNING:newspaper.network:get_html_status(): bad status code 429 on URL: https://www.youtube.com/watch%3Fv%3DSr9Z0zlxrbw, html: <!DOCTYPE html PUBLIC \"-//W3C//DTD HTML 4.01 Transitional//EN\">\n",
      "<html>\n",
      "<head><meta http-equiv=\"content-type\" content=\"text/html; charset=utf-8\"><meta name=\"viewport\" content=\"initial-scale=1\"><title>h\n"
     ]
    },
    {
     "name": "stdout",
     "output_type": "stream",
     "text": [
      "Error fetching article: Article `download()` failed with Status code 429 for url None on URL https://www.youtube.com/watch%3Fv%3DSr9Z0zlxrbw\n",
      "Fetching text for article 110 of 300\n"
     ]
    },
    {
     "name": "stderr",
     "output_type": "stream",
     "text": [
      "WARNING:newspaper.network:get_html_status(): bad status code 429 on URL: https://www.youtube.com/watch%3Fv%3DHVt1w3d3bSM, html: <!DOCTYPE html PUBLIC \"-//W3C//DTD HTML 4.01 Transitional//EN\">\n",
      "<html>\n",
      "<head><meta http-equiv=\"content-type\" content=\"text/html; charset=utf-8\"><meta name=\"viewport\" content=\"initial-scale=1\"><title>h\n"
     ]
    },
    {
     "name": "stdout",
     "output_type": "stream",
     "text": [
      "Error fetching article: Article `download()` failed with Status code 429 for url None on URL https://www.youtube.com/watch%3Fv%3DHVt1w3d3bSM\n",
      "Fetching text for article 111 of 300\n",
      "Fetching text for article 112 of 300\n",
      "Fetching text for article 113 of 300\n"
     ]
    },
    {
     "name": "stderr",
     "output_type": "stream",
     "text": [
      "WARNING:newspaper.network:get_html_status(): bad status code 429 on URL: https://www.youtube.com/watch%3Fv%3DxxY55NG_Gnk, html: <!DOCTYPE html PUBLIC \"-//W3C//DTD HTML 4.01 Transitional//EN\">\n",
      "<html>\n",
      "<head><meta http-equiv=\"content-type\" content=\"text/html; charset=utf-8\"><meta name=\"viewport\" content=\"initial-scale=1\"><title>h\n"
     ]
    },
    {
     "name": "stdout",
     "output_type": "stream",
     "text": [
      "Error fetching article: Article `download()` failed with Status code 429 for url None on URL https://www.youtube.com/watch%3Fv%3DxxY55NG_Gnk\n",
      "Fetching text for article 114 of 300\n"
     ]
    },
    {
     "name": "stderr",
     "output_type": "stream",
     "text": [
      "WARNING:newspaper.network:get_html_status(): bad status code 403 on URL: https://www.ctpost.com/news/world/article/el-senado-de-mexico-aprueba-una-controversial-19756945.php, html: <!DOCTYPE html>\n",
      "<html lang=\"en\">\n",
      "<head>\n",
      "    <meta charset=\"utf-8\">\n",
      "    <meta name=\"viewport\" content=\"width=device-width, initial-scale=1\">\n",
      "    <meta name=\"description\" content=\"px-captcha\">\n",
      "    <titl\n"
     ]
    },
    {
     "name": "stdout",
     "output_type": "stream",
     "text": [
      "Error fetching article: Article `download()` failed with Website protected with PerimeterX, url: None on URL https://www.ctpost.com/news/world/article/el-senado-de-mexico-aprueba-una-controversial-19756945.php\n",
      "Fetching text for article 115 of 300\n",
      "Fetching text for article 116 of 300\n",
      "Fetching text for article 117 of 300\n"
     ]
    },
    {
     "name": "stderr",
     "output_type": "stream",
     "text": [
      "WARNING:newspaper.network:get_html_status(): bad status code 403 on URL: https://headtopics.com/us/manifestantes-irrumpen-en-el-senado-de-mexico-durante-58814315, html: <!DOCTYPE html>\n",
      "<!--[if lt IE 7]> <html class=\"no-js ie6 oldie\" lang=\"en-US\"> <![endif]-->\n",
      "<!--[if IE 7]>    <html class=\"no-js ie7 oldie\" lang=\"en-US\"> <![endif]-->\n",
      "<!--[if IE 8]>    <html class=\"no-\n"
     ]
    },
    {
     "name": "stdout",
     "output_type": "stream",
     "text": [
      "Error fetching article: Article `download()` failed with Website protected with Cloudflare, url: None on URL https://headtopics.com/us/manifestantes-irrumpen-en-el-senado-de-mexico-durante-58814315\n",
      "Fetching text for article 118 of 300\n",
      "Fetching text for article 119 of 300\n",
      "Fetching text for article 120 of 300\n"
     ]
    },
    {
     "name": "stderr",
     "output_type": "stream",
     "text": [
      "WARNING:newspaper.network:get_html_status(): bad status code 403 on URL: https://www.wsj.com/world/americas/mexican-legislature-passes-judicial-overhaul-5399e8ff, html: <!DOCTYPE html><html lang=\"en-US\"><head><meta charSet=\"utf-8\"/><meta name=\"viewport\" content=\"width=device-width\"/><link data-ace-id=\"ace-link-8\" as=\"script\" href=\"https://www.wsj.com/asset/ace/ace.mi\n"
     ]
    },
    {
     "name": "stdout",
     "output_type": "stream",
     "text": [
      "Error fetching article: Article `download()` failed with Status code 403 for url None on URL https://www.wsj.com/world/americas/mexican-legislature-passes-judicial-overhaul-5399e8ff\n",
      "Fetching text for article 121 of 300\n"
     ]
    },
    {
     "name": "stderr",
     "output_type": "stream",
     "text": [
      "WARNING:newspaper.network:get_html_status(): bad status code 429 on URL: https://www.youtube.com/watch%3Fv%3DNOJNJS_0ev4, html: <!DOCTYPE html PUBLIC \"-//W3C//DTD HTML 4.01 Transitional//EN\">\n",
      "<html>\n",
      "<head><meta http-equiv=\"content-type\" content=\"text/html; charset=utf-8\"><meta name=\"viewport\" content=\"initial-scale=1\"><title>h\n"
     ]
    },
    {
     "name": "stdout",
     "output_type": "stream",
     "text": [
      "Error fetching article: Article `download()` failed with Status code 429 for url None on URL https://www.youtube.com/watch%3Fv%3DNOJNJS_0ev4\n",
      "Fetching text for article 122 of 300\n",
      "Fetching text for article 123 of 300\n",
      "Fetching text for article 124 of 300\n"
     ]
    },
    {
     "name": "stderr",
     "output_type": "stream",
     "text": [
      "WARNING:newspaper.network:get_html_status(): bad status code 403 on URL: https://www.courthousenews.com/mexican-judges-strengthen-fight-against-judicial-reform/, html: <!DOCTYPE html>\n",
      "<!--[if lt IE 7]> <html class=\"no-js ie6 oldie\" lang=\"en-US\"> <![endif]-->\n",
      "<!--[if IE 7]>    <html class=\"no-js ie7 oldie\" lang=\"en-US\"> <![endif]-->\n",
      "<!--[if IE 8]>    <html class=\"no-\n"
     ]
    },
    {
     "name": "stdout",
     "output_type": "stream",
     "text": [
      "Error fetching article: Article `download()` failed with Website protected with Cloudflare, url: None on URL https://www.courthousenews.com/mexican-judges-strengthen-fight-against-judicial-reform/\n",
      "Fetching text for article 125 of 300\n",
      "Fetching text for article 126 of 300\n",
      "Fetching text for article 127 of 300\n",
      "Fetching text for article 128 of 300\n",
      "Fetching text for article 129 of 300\n",
      "Fetching text for article 130 of 300\n",
      "Fetching text for article 131 of 300\n",
      "Fetching text for article 132 of 300\n",
      "Fetching text for article 133 of 300\n"
     ]
    },
    {
     "name": "stderr",
     "output_type": "stream",
     "text": [
      "WARNING:newspaper.network:get_html_status(): bad status code 403 on URL: https://peoplesdispatch.org/2024/09/06/amlos-last-presidential-battle-the-house-of-representatives-approves-morenas-judicial-reform/, html: <!DOCTYPE html><html lang=\"en-US\"><head><title>Just a moment...</title><meta http-equiv=\"Content-Type\" content=\"text/html; charset=UTF-8\"><meta http-equiv=\"X-UA-Compatible\" content=\"IE=Edge\"><meta nam\n"
     ]
    },
    {
     "name": "stdout",
     "output_type": "stream",
     "text": [
      "Error fetching article: Article `download()` failed with Website protected with Cloudflare, url: None on URL https://peoplesdispatch.org/2024/09/06/amlos-last-presidential-battle-the-house-of-representatives-approves-morenas-judicial-reform/\n",
      "Fetching text for article 134 of 300\n",
      "Fetching text for article 135 of 300\n",
      "Fetching text for article 136 of 300\n",
      "Fetching text for article 137 of 300\n",
      "Fetching text for article 138 of 300\n",
      "Fetching text for article 139 of 300\n",
      "Fetching text for article 140 of 300\n",
      "Fetching text for article 141 of 300\n",
      "Fetching text for article 142 of 300\n",
      "Fetching text for article 143 of 300\n",
      "Fetching text for article 144 of 300\n"
     ]
    },
    {
     "name": "stderr",
     "output_type": "stream",
     "text": [
      "WARNING:newspaper.network:get_html_status(): bad status code 403 on URL: https://confidencial.digital/nacion/policia-podra-pedir-informacion-telefonica-y-congelar-cuentas-bancarias-en-nicaragua/, html: <!DOCTYPE html><html lang=\"en-US\"><head><title>Just a moment...</title><meta http-equiv=\"Content-Type\" content=\"text/html; charset=UTF-8\"><meta http-equiv=\"X-UA-Compatible\" content=\"IE=Edge\"><meta nam\n"
     ]
    },
    {
     "name": "stdout",
     "output_type": "stream",
     "text": [
      "Error fetching article: Article `download()` failed with Website protected with Cloudflare, url: None on URL https://confidencial.digital/nacion/policia-podra-pedir-informacion-telefonica-y-congelar-cuentas-bancarias-en-nicaragua/\n",
      "Fetching text for article 145 of 300\n",
      "Fetching text for article 146 of 300\n",
      "Fetching text for article 147 of 300\n",
      "Fetching text for article 148 of 300\n"
     ]
    },
    {
     "name": "stderr",
     "output_type": "stream",
     "text": [
      "WARNING:newspaper.network:get_html_status(): bad status code 429 on URL: https://www.youtube.com/watch%3Fv%3DwL9JYCm2b7w, html: <!DOCTYPE html PUBLIC \"-//W3C//DTD HTML 4.01 Transitional//EN\">\n",
      "<html>\n",
      "<head><meta http-equiv=\"content-type\" content=\"text/html; charset=utf-8\"><meta name=\"viewport\" content=\"initial-scale=1\"><title>h\n"
     ]
    },
    {
     "name": "stdout",
     "output_type": "stream",
     "text": [
      "Error fetching article: Article `download()` failed with Status code 429 for url None on URL https://www.youtube.com/watch%3Fv%3DwL9JYCm2b7w\n",
      "Fetching text for article 149 of 300\n",
      "Fetching text for article 150 of 300\n",
      "Fetching text for article 151 of 300\n",
      "Fetching text for article 152 of 300\n",
      "Fetching text for article 153 of 300\n"
     ]
    },
    {
     "name": "stderr",
     "output_type": "stream",
     "text": [
      "WARNING:newspaper.network:get_html_status(): bad status code 403 on URL: https://www.ctinsider.com/news/world/article/el-senado-de-mexico-aprueba-una-controversial-19756945.php, html: <!DOCTYPE html>\n",
      "<html lang=\"en\">\n",
      "<head>\n",
      "    <meta charset=\"utf-8\">\n",
      "    <meta name=\"viewport\" content=\"width=device-width, initial-scale=1\">\n",
      "    <meta name=\"description\" content=\"px-captcha\">\n",
      "    <titl\n"
     ]
    },
    {
     "name": "stdout",
     "output_type": "stream",
     "text": [
      "Error fetching article: Article `download()` failed with Website protected with PerimeterX, url: None on URL https://www.ctinsider.com/news/world/article/el-senado-de-mexico-aprueba-una-controversial-19756945.php\n",
      "Fetching text for article 154 of 300\n"
     ]
    },
    {
     "name": "stderr",
     "output_type": "stream",
     "text": [
      "WARNING:newspaper.network:get_html_status(): bad status code 403 on URL: https://www.manisteenews.com/news/world/article/el-senado-de-mexico-aprueba-una-controversial-19756945.php, html: <!DOCTYPE html>\n",
      "<html lang=\"en\">\n",
      "<head>\n",
      "    <meta charset=\"utf-8\">\n",
      "    <meta name=\"viewport\" content=\"width=device-width, initial-scale=1\">\n",
      "    <meta name=\"description\" content=\"px-captcha\">\n",
      "    <titl\n"
     ]
    },
    {
     "name": "stdout",
     "output_type": "stream",
     "text": [
      "Error fetching article: Article `download()` failed with Website protected with PerimeterX, url: None on URL https://www.manisteenews.com/news/world/article/el-senado-de-mexico-aprueba-una-controversial-19756945.php\n",
      "Fetching text for article 155 of 300\n",
      "Fetching text for article 156 of 300\n"
     ]
    },
    {
     "name": "stderr",
     "output_type": "stream",
     "text": [
      "WARNING:newspaper.network:get_html_status(): bad status code 403 on URL: https://bajanews.mx/noticias/32101/People-injured-in-protest-over-judicial-reform-at-congress-Mexicali, html: <!DOCTYPE html>\n",
      "<!--[if lt IE 7]> <html class=\"no-js ie6 oldie\" lang=\"en-US\"> <![endif]-->\n",
      "<!--[if IE 7]>    <html class=\"no-js ie7 oldie\" lang=\"en-US\"> <![endif]-->\n",
      "<!--[if IE 8]>    <html class=\"no-\n"
     ]
    },
    {
     "name": "stdout",
     "output_type": "stream",
     "text": [
      "Error fetching article: Article `download()` failed with Website protected with Cloudflare, url: None on URL https://bajanews.mx/noticias/32101/People-injured-in-protest-over-judicial-reform-at-congress-Mexicali\n",
      "Fetching text for article 157 of 300\n",
      "Fetching text for article 158 of 300\n"
     ]
    },
    {
     "name": "stderr",
     "output_type": "stream",
     "text": [
      "WARNING:newspaper.network:get_html_status(): bad status code 401 on URL: https://www.reuters.com/world/americas/mexican-senate-gives-general-approval-judicial-reform-nears-final-approval-2024-09-11/, html: <html><head><title>reuters.com</title><style>#cmsg{animation: A 1.5s;}@keyframes A{0%{opacity:0;}99%{opacity:0;}100%{opacity:1;}}</style></head><body style=\"margin:0\"><p id=\"cmsg\">Please enable JS and\n"
     ]
    },
    {
     "name": "stdout",
     "output_type": "stream",
     "text": [
      "Error fetching article: Article `download()` failed with Status code 401 for url None on URL https://www.reuters.com/world/americas/mexican-senate-gives-general-approval-judicial-reform-nears-final-approval-2024-09-11/\n",
      "Fetching text for article 159 of 300\n"
     ]
    },
    {
     "name": "stderr",
     "output_type": "stream",
     "text": [
      "WARNING:newspaper.network:get_html_status(): bad status code 429 on URL: https://www.youtube.com/watch%3Fv%3DSr9Z0zlxrbw, html: <!DOCTYPE html PUBLIC \"-//W3C//DTD HTML 4.01 Transitional//EN\">\n",
      "<html>\n",
      "<head><meta http-equiv=\"content-type\" content=\"text/html; charset=utf-8\"><meta name=\"viewport\" content=\"initial-scale=1\"><title>h\n"
     ]
    },
    {
     "name": "stdout",
     "output_type": "stream",
     "text": [
      "Error fetching article: Article `download()` failed with Status code 429 for url None on URL https://www.youtube.com/watch%3Fv%3DSr9Z0zlxrbw\n",
      "Fetching text for article 160 of 300\n"
     ]
    },
    {
     "name": "stderr",
     "output_type": "stream",
     "text": [
      "WARNING:newspaper.network:get_html_status(): bad status code 429 on URL: https://www.youtube.com/watch%3Fv%3DHVt1w3d3bSM, html: <!DOCTYPE html PUBLIC \"-//W3C//DTD HTML 4.01 Transitional//EN\">\n",
      "<html>\n",
      "<head><meta http-equiv=\"content-type\" content=\"text/html; charset=utf-8\"><meta name=\"viewport\" content=\"initial-scale=1\"><title>h\n"
     ]
    },
    {
     "name": "stdout",
     "output_type": "stream",
     "text": [
      "Error fetching article: Article `download()` failed with Status code 429 for url None on URL https://www.youtube.com/watch%3Fv%3DHVt1w3d3bSM\n",
      "Fetching text for article 161 of 300\n",
      "Fetching text for article 162 of 300\n",
      "Fetching text for article 163 of 300\n"
     ]
    },
    {
     "name": "stderr",
     "output_type": "stream",
     "text": [
      "WARNING:newspaper.network:get_html_status(): bad status code 429 on URL: https://www.youtube.com/watch%3Fv%3DxxY55NG_Gnk, html: <!DOCTYPE html PUBLIC \"-//W3C//DTD HTML 4.01 Transitional//EN\">\n",
      "<html>\n",
      "<head><meta http-equiv=\"content-type\" content=\"text/html; charset=utf-8\"><meta name=\"viewport\" content=\"initial-scale=1\"><title>h\n"
     ]
    },
    {
     "name": "stdout",
     "output_type": "stream",
     "text": [
      "Error fetching article: Article `download()` failed with Status code 429 for url None on URL https://www.youtube.com/watch%3Fv%3DxxY55NG_Gnk\n",
      "Fetching text for article 164 of 300\n"
     ]
    },
    {
     "name": "stderr",
     "output_type": "stream",
     "text": [
      "WARNING:newspaper.network:get_html_status(): bad status code 403 on URL: https://www.ctpost.com/news/world/article/el-senado-de-mexico-aprueba-una-controversial-19756945.php, html: <!DOCTYPE html>\n",
      "<html lang=\"en\">\n",
      "<head>\n",
      "    <meta charset=\"utf-8\">\n",
      "    <meta name=\"viewport\" content=\"width=device-width, initial-scale=1\">\n",
      "    <meta name=\"description\" content=\"px-captcha\">\n",
      "    <titl\n"
     ]
    },
    {
     "name": "stdout",
     "output_type": "stream",
     "text": [
      "Error fetching article: Article `download()` failed with Website protected with PerimeterX, url: None on URL https://www.ctpost.com/news/world/article/el-senado-de-mexico-aprueba-una-controversial-19756945.php\n",
      "Fetching text for article 165 of 300\n",
      "Fetching text for article 166 of 300\n",
      "Fetching text for article 167 of 300\n"
     ]
    },
    {
     "name": "stderr",
     "output_type": "stream",
     "text": [
      "WARNING:newspaper.network:get_html_status(): bad status code 403 on URL: https://headtopics.com/us/manifestantes-irrumpen-en-el-senado-de-mexico-durante-58814315, html: <!DOCTYPE html>\n",
      "<!--[if lt IE 7]> <html class=\"no-js ie6 oldie\" lang=\"en-US\"> <![endif]-->\n",
      "<!--[if IE 7]>    <html class=\"no-js ie7 oldie\" lang=\"en-US\"> <![endif]-->\n",
      "<!--[if IE 8]>    <html class=\"no-\n"
     ]
    },
    {
     "name": "stdout",
     "output_type": "stream",
     "text": [
      "Error fetching article: Article `download()` failed with Website protected with Cloudflare, url: None on URL https://headtopics.com/us/manifestantes-irrumpen-en-el-senado-de-mexico-durante-58814315\n",
      "Fetching text for article 168 of 300\n",
      "Fetching text for article 169 of 300\n",
      "Fetching text for article 170 of 300\n"
     ]
    },
    {
     "name": "stderr",
     "output_type": "stream",
     "text": [
      "WARNING:newspaper.network:get_html_status(): bad status code 403 on URL: https://www.wsj.com/world/americas/mexican-legislature-passes-judicial-overhaul-5399e8ff, html: <!DOCTYPE html><html lang=\"en-US\"><head><meta charSet=\"utf-8\"/><meta name=\"viewport\" content=\"width=device-width\"/><link data-ace-id=\"ace-link-8\" as=\"script\" href=\"https://www.wsj.com/asset/ace/ace.mi\n"
     ]
    },
    {
     "name": "stdout",
     "output_type": "stream",
     "text": [
      "Error fetching article: Article `download()` failed with Status code 403 for url None on URL https://www.wsj.com/world/americas/mexican-legislature-passes-judicial-overhaul-5399e8ff\n",
      "Fetching text for article 171 of 300\n"
     ]
    },
    {
     "name": "stderr",
     "output_type": "stream",
     "text": [
      "WARNING:newspaper.network:get_html_status(): bad status code 429 on URL: https://www.youtube.com/watch%3Fv%3DNOJNJS_0ev4, html: <!DOCTYPE html PUBLIC \"-//W3C//DTD HTML 4.01 Transitional//EN\">\n",
      "<html>\n",
      "<head><meta http-equiv=\"content-type\" content=\"text/html; charset=utf-8\"><meta name=\"viewport\" content=\"initial-scale=1\"><title>h\n"
     ]
    },
    {
     "name": "stdout",
     "output_type": "stream",
     "text": [
      "Error fetching article: Article `download()` failed with Status code 429 for url None on URL https://www.youtube.com/watch%3Fv%3DNOJNJS_0ev4\n",
      "Fetching text for article 172 of 300\n",
      "Fetching text for article 173 of 300\n",
      "Fetching text for article 174 of 300\n"
     ]
    },
    {
     "name": "stderr",
     "output_type": "stream",
     "text": [
      "WARNING:newspaper.network:get_html_status(): bad status code 403 on URL: https://www.courthousenews.com/mexican-judges-strengthen-fight-against-judicial-reform/, html: <!DOCTYPE html>\n",
      "<!--[if lt IE 7]> <html class=\"no-js ie6 oldie\" lang=\"en-US\"> <![endif]-->\n",
      "<!--[if IE 7]>    <html class=\"no-js ie7 oldie\" lang=\"en-US\"> <![endif]-->\n",
      "<!--[if IE 8]>    <html class=\"no-\n"
     ]
    },
    {
     "name": "stdout",
     "output_type": "stream",
     "text": [
      "Error fetching article: Article `download()` failed with Website protected with Cloudflare, url: None on URL https://www.courthousenews.com/mexican-judges-strengthen-fight-against-judicial-reform/\n",
      "Fetching text for article 175 of 300\n",
      "Fetching text for article 176 of 300\n",
      "Fetching text for article 177 of 300\n",
      "Fetching text for article 178 of 300\n",
      "Fetching text for article 179 of 300\n",
      "Fetching text for article 180 of 300\n",
      "Fetching text for article 181 of 300\n",
      "Fetching text for article 182 of 300\n",
      "Fetching text for article 183 of 300\n"
     ]
    },
    {
     "name": "stderr",
     "output_type": "stream",
     "text": [
      "WARNING:newspaper.network:get_html_status(): bad status code 403 on URL: https://peoplesdispatch.org/2024/09/06/amlos-last-presidential-battle-the-house-of-representatives-approves-morenas-judicial-reform/, html: <!DOCTYPE html><html lang=\"en-US\"><head><title>Just a moment...</title><meta http-equiv=\"Content-Type\" content=\"text/html; charset=UTF-8\"><meta http-equiv=\"X-UA-Compatible\" content=\"IE=Edge\"><meta nam\n"
     ]
    },
    {
     "name": "stdout",
     "output_type": "stream",
     "text": [
      "Error fetching article: Article `download()` failed with Website protected with Cloudflare, url: None on URL https://peoplesdispatch.org/2024/09/06/amlos-last-presidential-battle-the-house-of-representatives-approves-morenas-judicial-reform/\n",
      "Fetching text for article 184 of 300\n",
      "Fetching text for article 185 of 300\n",
      "Fetching text for article 186 of 300\n",
      "Fetching text for article 187 of 300\n",
      "Fetching text for article 188 of 300\n",
      "Fetching text for article 189 of 300\n",
      "Fetching text for article 190 of 300\n",
      "Fetching text for article 191 of 300\n",
      "Fetching text for article 192 of 300\n",
      "Fetching text for article 193 of 300\n",
      "Fetching text for article 194 of 300\n"
     ]
    },
    {
     "name": "stderr",
     "output_type": "stream",
     "text": [
      "WARNING:newspaper.network:get_html_status(): bad status code 403 on URL: https://confidencial.digital/nacion/policia-podra-pedir-informacion-telefonica-y-congelar-cuentas-bancarias-en-nicaragua/, html: <!DOCTYPE html><html lang=\"en-US\"><head><title>Just a moment...</title><meta http-equiv=\"Content-Type\" content=\"text/html; charset=UTF-8\"><meta http-equiv=\"X-UA-Compatible\" content=\"IE=Edge\"><meta nam\n"
     ]
    },
    {
     "name": "stdout",
     "output_type": "stream",
     "text": [
      "Error fetching article: Article `download()` failed with Website protected with Cloudflare, url: None on URL https://confidencial.digital/nacion/policia-podra-pedir-informacion-telefonica-y-congelar-cuentas-bancarias-en-nicaragua/\n",
      "Fetching text for article 195 of 300\n",
      "Fetching text for article 196 of 300\n",
      "Fetching text for article 197 of 300\n",
      "Fetching text for article 198 of 300\n"
     ]
    },
    {
     "name": "stderr",
     "output_type": "stream",
     "text": [
      "WARNING:newspaper.network:get_html_status(): bad status code 429 on URL: https://www.youtube.com/watch%3Fv%3DwL9JYCm2b7w, html: <!DOCTYPE html PUBLIC \"-//W3C//DTD HTML 4.01 Transitional//EN\">\n",
      "<html>\n",
      "<head><meta http-equiv=\"content-type\" content=\"text/html; charset=utf-8\"><meta name=\"viewport\" content=\"initial-scale=1\"><title>h\n"
     ]
    },
    {
     "name": "stdout",
     "output_type": "stream",
     "text": [
      "Error fetching article: Article `download()` failed with Status code 429 for url None on URL https://www.youtube.com/watch%3Fv%3DwL9JYCm2b7w\n",
      "Fetching text for article 199 of 300\n",
      "Fetching text for article 200 of 300\n",
      "Fetching text for article 201 of 300\n"
     ]
    },
    {
     "name": "stderr",
     "output_type": "stream",
     "text": [
      "WARNING:newspaper.network:get_html_status(): bad status code 401 on URL: https://www.reuters.com/world/americas/mexican-congress-debates-judicial-reform-supreme-court-judges-join-work-stoppage-2024-09-03/, html: <html><head><title>reuters.com</title><style>#cmsg{animation: A 1.5s;}@keyframes A{0%{opacity:0;}99%{opacity:0;}100%{opacity:1;}}</style></head><body style=\"margin:0\"><p id=\"cmsg\">Please enable JS and\n"
     ]
    },
    {
     "name": "stdout",
     "output_type": "stream",
     "text": [
      "Error fetching article: Article `download()` failed with Status code 401 for url None on URL https://www.reuters.com/world/americas/mexican-congress-debates-judicial-reform-supreme-court-judges-join-work-stoppage-2024-09-03/\n",
      "Fetching text for article 202 of 300\n",
      "Fetching text for article 203 of 300\n",
      "Fetching text for article 204 of 300\n",
      "Fetching text for article 205 of 300\n",
      "Fetching text for article 206 of 300\n",
      "Fetching text for article 207 of 300\n",
      "Fetching text for article 208 of 300\n",
      "Fetching text for article 209 of 300\n",
      "Fetching text for article 210 of 300\n",
      "Fetching text for article 211 of 300\n",
      "Fetching text for article 212 of 300\n",
      "Fetching text for article 213 of 300\n"
     ]
    },
    {
     "name": "stderr",
     "output_type": "stream",
     "text": [
      "WARNING:newspaper.network:get_html_status(): bad status code 403 on URL: https://www.ctinsider.com/news/world/article/el-senado-de-mexico-aprueba-una-controversial-19756945.php, html: <!DOCTYPE html>\n",
      "<html lang=\"en\">\n",
      "<head>\n",
      "    <meta charset=\"utf-8\">\n",
      "    <meta name=\"viewport\" content=\"width=device-width, initial-scale=1\">\n",
      "    <meta name=\"description\" content=\"px-captcha\">\n",
      "    <titl\n"
     ]
    },
    {
     "name": "stdout",
     "output_type": "stream",
     "text": [
      "Error fetching article: Article `download()` failed with Website protected with PerimeterX, url: None on URL https://www.ctinsider.com/news/world/article/el-senado-de-mexico-aprueba-una-controversial-19756945.php\n",
      "Fetching text for article 214 of 300\n"
     ]
    },
    {
     "name": "stderr",
     "output_type": "stream",
     "text": [
      "WARNING:newspaper.network:get_html_status(): bad status code 403 on URL: https://www.manisteenews.com/news/world/article/el-senado-de-mexico-aprueba-una-controversial-19756945.php, html: <!DOCTYPE html>\n",
      "<html lang=\"en\">\n",
      "<head>\n",
      "    <meta charset=\"utf-8\">\n",
      "    <meta name=\"viewport\" content=\"width=device-width, initial-scale=1\">\n",
      "    <meta name=\"description\" content=\"px-captcha\">\n",
      "    <titl\n"
     ]
    },
    {
     "name": "stdout",
     "output_type": "stream",
     "text": [
      "Error fetching article: Article `download()` failed with Website protected with PerimeterX, url: None on URL https://www.manisteenews.com/news/world/article/el-senado-de-mexico-aprueba-una-controversial-19756945.php\n",
      "Fetching text for article 215 of 300\n",
      "Fetching text for article 216 of 300\n"
     ]
    },
    {
     "name": "stderr",
     "output_type": "stream",
     "text": [
      "WARNING:newspaper.network:get_html_status(): bad status code 403 on URL: https://bajanews.mx/noticias/32101/People-injured-in-protest-over-judicial-reform-at-congress-Mexicali, html: <!DOCTYPE html>\n",
      "<!--[if lt IE 7]> <html class=\"no-js ie6 oldie\" lang=\"en-US\"> <![endif]-->\n",
      "<!--[if IE 7]>    <html class=\"no-js ie7 oldie\" lang=\"en-US\"> <![endif]-->\n",
      "<!--[if IE 8]>    <html class=\"no-\n"
     ]
    },
    {
     "name": "stdout",
     "output_type": "stream",
     "text": [
      "Error fetching article: Article `download()` failed with Website protected with Cloudflare, url: None on URL https://bajanews.mx/noticias/32101/People-injured-in-protest-over-judicial-reform-at-congress-Mexicali\n",
      "Fetching text for article 217 of 300\n",
      "Fetching text for article 218 of 300\n"
     ]
    },
    {
     "name": "stderr",
     "output_type": "stream",
     "text": [
      "WARNING:newspaper.network:get_html_status(): bad status code 401 on URL: https://www.reuters.com/world/americas/mexican-senate-gives-general-approval-judicial-reform-nears-final-approval-2024-09-11/, html: <html><head><title>reuters.com</title><style>#cmsg{animation: A 1.5s;}@keyframes A{0%{opacity:0;}99%{opacity:0;}100%{opacity:1;}}</style></head><body style=\"margin:0\"><p id=\"cmsg\">Please enable JS and\n"
     ]
    },
    {
     "name": "stdout",
     "output_type": "stream",
     "text": [
      "Error fetching article: Article `download()` failed with Status code 401 for url None on URL https://www.reuters.com/world/americas/mexican-senate-gives-general-approval-judicial-reform-nears-final-approval-2024-09-11/\n",
      "Fetching text for article 219 of 300\n"
     ]
    },
    {
     "name": "stderr",
     "output_type": "stream",
     "text": [
      "WARNING:newspaper.network:get_html_status(): bad status code 429 on URL: https://www.youtube.com/watch%3Fv%3DSr9Z0zlxrbw, html: <!DOCTYPE html PUBLIC \"-//W3C//DTD HTML 4.01 Transitional//EN\">\n",
      "<html>\n",
      "<head><meta http-equiv=\"content-type\" content=\"text/html; charset=utf-8\"><meta name=\"viewport\" content=\"initial-scale=1\"><title>h\n"
     ]
    },
    {
     "name": "stdout",
     "output_type": "stream",
     "text": [
      "Error fetching article: Article `download()` failed with Status code 429 for url None on URL https://www.youtube.com/watch%3Fv%3DSr9Z0zlxrbw\n",
      "Fetching text for article 220 of 300\n"
     ]
    },
    {
     "name": "stderr",
     "output_type": "stream",
     "text": [
      "WARNING:newspaper.network:get_html_status(): bad status code 429 on URL: https://www.youtube.com/watch%3Fv%3DHVt1w3d3bSM, html: <!DOCTYPE html PUBLIC \"-//W3C//DTD HTML 4.01 Transitional//EN\">\n",
      "<html>\n",
      "<head><meta http-equiv=\"content-type\" content=\"text/html; charset=utf-8\"><meta name=\"viewport\" content=\"initial-scale=1\"><title>h\n"
     ]
    },
    {
     "name": "stdout",
     "output_type": "stream",
     "text": [
      "Error fetching article: Article `download()` failed with Status code 429 for url None on URL https://www.youtube.com/watch%3Fv%3DHVt1w3d3bSM\n",
      "Fetching text for article 221 of 300\n",
      "Fetching text for article 222 of 300\n",
      "Fetching text for article 223 of 300\n"
     ]
    },
    {
     "name": "stderr",
     "output_type": "stream",
     "text": [
      "WARNING:newspaper.network:get_html_status(): bad status code 429 on URL: https://www.youtube.com/watch%3Fv%3DxxY55NG_Gnk, html: <!DOCTYPE html PUBLIC \"-//W3C//DTD HTML 4.01 Transitional//EN\">\n",
      "<html>\n",
      "<head><meta http-equiv=\"content-type\" content=\"text/html; charset=utf-8\"><meta name=\"viewport\" content=\"initial-scale=1\"><title>h\n"
     ]
    },
    {
     "name": "stdout",
     "output_type": "stream",
     "text": [
      "Error fetching article: Article `download()` failed with Status code 429 for url None on URL https://www.youtube.com/watch%3Fv%3DxxY55NG_Gnk\n",
      "Fetching text for article 224 of 300\n"
     ]
    },
    {
     "name": "stderr",
     "output_type": "stream",
     "text": [
      "WARNING:newspaper.network:get_html_status(): bad status code 403 on URL: https://www.ctpost.com/news/world/article/el-senado-de-mexico-aprueba-una-controversial-19756945.php, html: <!DOCTYPE html>\n",
      "<html lang=\"en\">\n",
      "<head>\n",
      "    <meta charset=\"utf-8\">\n",
      "    <meta name=\"viewport\" content=\"width=device-width, initial-scale=1\">\n",
      "    <meta name=\"description\" content=\"px-captcha\">\n",
      "    <titl\n"
     ]
    },
    {
     "name": "stdout",
     "output_type": "stream",
     "text": [
      "Error fetching article: Article `download()` failed with Website protected with PerimeterX, url: None on URL https://www.ctpost.com/news/world/article/el-senado-de-mexico-aprueba-una-controversial-19756945.php\n",
      "Fetching text for article 225 of 300\n",
      "Fetching text for article 226 of 300\n",
      "Fetching text for article 227 of 300\n"
     ]
    },
    {
     "name": "stderr",
     "output_type": "stream",
     "text": [
      "WARNING:newspaper.network:get_html_status(): bad status code 403 on URL: https://headtopics.com/us/manifestantes-irrumpen-en-el-senado-de-mexico-durante-58814315, html: <!DOCTYPE html>\n",
      "<!--[if lt IE 7]> <html class=\"no-js ie6 oldie\" lang=\"en-US\"> <![endif]-->\n",
      "<!--[if IE 7]>    <html class=\"no-js ie7 oldie\" lang=\"en-US\"> <![endif]-->\n",
      "<!--[if IE 8]>    <html class=\"no-\n"
     ]
    },
    {
     "name": "stdout",
     "output_type": "stream",
     "text": [
      "Error fetching article: Article `download()` failed with Website protected with Cloudflare, url: None on URL https://headtopics.com/us/manifestantes-irrumpen-en-el-senado-de-mexico-durante-58814315\n",
      "Fetching text for article 228 of 300\n",
      "Fetching text for article 229 of 300\n",
      "Fetching text for article 230 of 300\n"
     ]
    },
    {
     "name": "stderr",
     "output_type": "stream",
     "text": [
      "WARNING:newspaper.network:get_html_status(): bad status code 403 on URL: https://www.wsj.com/world/americas/mexican-legislature-passes-judicial-overhaul-5399e8ff, html: <!DOCTYPE html><html lang=\"en-US\"><head><meta charSet=\"utf-8\"/><meta name=\"viewport\" content=\"width=device-width\"/><link data-ace-id=\"ace-link-8\" as=\"script\" href=\"https://www.wsj.com/asset/ace/ace.mi\n"
     ]
    },
    {
     "name": "stdout",
     "output_type": "stream",
     "text": [
      "Error fetching article: Article `download()` failed with Status code 403 for url None on URL https://www.wsj.com/world/americas/mexican-legislature-passes-judicial-overhaul-5399e8ff\n",
      "Fetching text for article 231 of 300\n"
     ]
    },
    {
     "name": "stderr",
     "output_type": "stream",
     "text": [
      "WARNING:newspaper.network:get_html_status(): bad status code 429 on URL: https://www.youtube.com/watch%3Fv%3DNOJNJS_0ev4, html: <!DOCTYPE html PUBLIC \"-//W3C//DTD HTML 4.01 Transitional//EN\">\n",
      "<html>\n",
      "<head><meta http-equiv=\"content-type\" content=\"text/html; charset=utf-8\"><meta name=\"viewport\" content=\"initial-scale=1\"><title>h\n"
     ]
    },
    {
     "name": "stdout",
     "output_type": "stream",
     "text": [
      "Error fetching article: Article `download()` failed with Status code 429 for url None on URL https://www.youtube.com/watch%3Fv%3DNOJNJS_0ev4\n",
      "Fetching text for article 232 of 300\n",
      "Fetching text for article 233 of 300\n",
      "Fetching text for article 234 of 300\n"
     ]
    },
    {
     "name": "stderr",
     "output_type": "stream",
     "text": [
      "WARNING:newspaper.network:get_html_status(): bad status code 403 on URL: https://www.courthousenews.com/mexican-judges-strengthen-fight-against-judicial-reform/, html: <!DOCTYPE html>\n",
      "<!--[if lt IE 7]> <html class=\"no-js ie6 oldie\" lang=\"en-US\"> <![endif]-->\n",
      "<!--[if IE 7]>    <html class=\"no-js ie7 oldie\" lang=\"en-US\"> <![endif]-->\n",
      "<!--[if IE 8]>    <html class=\"no-\n"
     ]
    },
    {
     "name": "stdout",
     "output_type": "stream",
     "text": [
      "Error fetching article: Article `download()` failed with Website protected with Cloudflare, url: None on URL https://www.courthousenews.com/mexican-judges-strengthen-fight-against-judicial-reform/\n",
      "Fetching text for article 235 of 300\n",
      "Fetching text for article 236 of 300\n",
      "Fetching text for article 237 of 300\n",
      "Fetching text for article 238 of 300\n",
      "Fetching text for article 239 of 300\n",
      "Fetching text for article 240 of 300\n",
      "Fetching text for article 241 of 300\n",
      "Fetching text for article 242 of 300\n",
      "Fetching text for article 243 of 300\n"
     ]
    },
    {
     "name": "stderr",
     "output_type": "stream",
     "text": [
      "WARNING:newspaper.network:get_html_status(): bad status code 403 on URL: https://peoplesdispatch.org/2024/09/06/amlos-last-presidential-battle-the-house-of-representatives-approves-morenas-judicial-reform/, html: <!DOCTYPE html><html lang=\"en-US\"><head><title>Just a moment...</title><meta http-equiv=\"Content-Type\" content=\"text/html; charset=UTF-8\"><meta http-equiv=\"X-UA-Compatible\" content=\"IE=Edge\"><meta nam\n"
     ]
    },
    {
     "name": "stdout",
     "output_type": "stream",
     "text": [
      "Error fetching article: Article `download()` failed with Website protected with Cloudflare, url: None on URL https://peoplesdispatch.org/2024/09/06/amlos-last-presidential-battle-the-house-of-representatives-approves-morenas-judicial-reform/\n",
      "Fetching text for article 244 of 300\n",
      "Fetching text for article 245 of 300\n",
      "Fetching text for article 246 of 300\n",
      "Fetching text for article 247 of 300\n",
      "Fetching text for article 248 of 300\n",
      "Fetching text for article 249 of 300\n",
      "Fetching text for article 250 of 300\n",
      "Fetching text for article 251 of 300\n",
      "Fetching text for article 252 of 300\n",
      "Fetching text for article 253 of 300\n",
      "Fetching text for article 254 of 300\n"
     ]
    },
    {
     "name": "stderr",
     "output_type": "stream",
     "text": [
      "WARNING:newspaper.network:get_html_status(): bad status code 403 on URL: https://confidencial.digital/nacion/policia-podra-pedir-informacion-telefonica-y-congelar-cuentas-bancarias-en-nicaragua/, html: <!DOCTYPE html><html lang=\"en-US\"><head><title>Just a moment...</title><meta http-equiv=\"Content-Type\" content=\"text/html; charset=UTF-8\"><meta http-equiv=\"X-UA-Compatible\" content=\"IE=Edge\"><meta nam\n"
     ]
    },
    {
     "name": "stdout",
     "output_type": "stream",
     "text": [
      "Error fetching article: Article `download()` failed with Website protected with Cloudflare, url: None on URL https://confidencial.digital/nacion/policia-podra-pedir-informacion-telefonica-y-congelar-cuentas-bancarias-en-nicaragua/\n",
      "Fetching text for article 255 of 300\n",
      "Fetching text for article 256 of 300\n",
      "Fetching text for article 257 of 300\n",
      "Fetching text for article 258 of 300\n"
     ]
    },
    {
     "name": "stderr",
     "output_type": "stream",
     "text": [
      "WARNING:newspaper.network:get_html_status(): bad status code 429 on URL: https://www.youtube.com/watch%3Fv%3DwL9JYCm2b7w, html: <!DOCTYPE html PUBLIC \"-//W3C//DTD HTML 4.01 Transitional//EN\">\n",
      "<html>\n",
      "<head><meta http-equiv=\"content-type\" content=\"text/html; charset=utf-8\"><meta name=\"viewport\" content=\"initial-scale=1\"><title>h\n"
     ]
    },
    {
     "name": "stdout",
     "output_type": "stream",
     "text": [
      "Error fetching article: Article `download()` failed with Status code 429 for url None on URL https://www.youtube.com/watch%3Fv%3DwL9JYCm2b7w\n",
      "Fetching text for article 259 of 300\n",
      "Fetching text for article 260 of 300\n",
      "Fetching text for article 261 of 300\n"
     ]
    },
    {
     "name": "stderr",
     "output_type": "stream",
     "text": [
      "WARNING:newspaper.network:get_html_status(): bad status code 401 on URL: https://www.reuters.com/world/americas/mexican-congress-debates-judicial-reform-supreme-court-judges-join-work-stoppage-2024-09-03/, html: <html><head><title>reuters.com</title><style>#cmsg{animation: A 1.5s;}@keyframes A{0%{opacity:0;}99%{opacity:0;}100%{opacity:1;}}</style></head><body style=\"margin:0\"><p id=\"cmsg\">Please enable JS and\n"
     ]
    },
    {
     "name": "stdout",
     "output_type": "stream",
     "text": [
      "Error fetching article: Article `download()` failed with Status code 401 for url None on URL https://www.reuters.com/world/americas/mexican-congress-debates-judicial-reform-supreme-court-judges-join-work-stoppage-2024-09-03/\n",
      "Fetching text for article 262 of 300\n",
      "Fetching text for article 263 of 300\n",
      "Fetching text for article 264 of 300\n",
      "Fetching text for article 265 of 300\n",
      "Fetching text for article 266 of 300\n",
      "Fetching text for article 267 of 300\n",
      "Fetching text for article 268 of 300\n",
      "Fetching text for article 269 of 300\n",
      "Fetching text for article 270 of 300\n",
      "Fetching text for article 271 of 300\n",
      "Fetching text for article 272 of 300\n",
      "Fetching text for article 273 of 300\n",
      "Fetching text for article 274 of 300\n",
      "Fetching text for article 275 of 300\n",
      "Fetching text for article 276 of 300\n",
      "Fetching text for article 277 of 300\n"
     ]
    },
    {
     "name": "stderr",
     "output_type": "stream",
     "text": [
      "/opt/anaconda3/lib/python3.11/site-packages/dateutil/parser/_parser.py:1207: UnknownTimezoneWarning: tzname CDT identified but not understood.  Pass `tzinfos` argument in order to correctly return a timezone-aware datetime.  In a future version, this will raise an exception.\n",
      "  warnings.warn(\"tzname {tzname} identified but not understood.  \"\n"
     ]
    },
    {
     "name": "stdout",
     "output_type": "stream",
     "text": [
      "Fetching text for article 278 of 300\n",
      "Fetching text for article 279 of 300\n",
      "Fetching text for article 280 of 300\n",
      "Fetching text for article 281 of 300\n",
      "Fetching text for article 282 of 300\n",
      "Fetching text for article 283 of 300\n"
     ]
    },
    {
     "name": "stderr",
     "output_type": "stream",
     "text": [
      "WARNING:newspaper.network:get_html_status(): bad status code 403 on URL: https://www.ctinsider.com/news/world/article/el-senado-de-mexico-aprueba-una-controversial-19756945.php, html: <!DOCTYPE html>\n",
      "<html lang=\"en\">\n",
      "<head>\n",
      "    <meta charset=\"utf-8\">\n",
      "    <meta name=\"viewport\" content=\"width=device-width, initial-scale=1\">\n",
      "    <meta name=\"description\" content=\"px-captcha\">\n",
      "    <titl\n"
     ]
    },
    {
     "name": "stdout",
     "output_type": "stream",
     "text": [
      "Error fetching article: Article `download()` failed with Website protected with PerimeterX, url: None on URL https://www.ctinsider.com/news/world/article/el-senado-de-mexico-aprueba-una-controversial-19756945.php\n",
      "Fetching text for article 284 of 300\n"
     ]
    },
    {
     "name": "stderr",
     "output_type": "stream",
     "text": [
      "WARNING:newspaper.network:get_html_status(): bad status code 403 on URL: https://www.manisteenews.com/news/world/article/el-senado-de-mexico-aprueba-una-controversial-19756945.php, html: <!DOCTYPE html>\n",
      "<html lang=\"en\">\n",
      "<head>\n",
      "    <meta charset=\"utf-8\">\n",
      "    <meta name=\"viewport\" content=\"width=device-width, initial-scale=1\">\n",
      "    <meta name=\"description\" content=\"px-captcha\">\n",
      "    <titl\n"
     ]
    },
    {
     "name": "stdout",
     "output_type": "stream",
     "text": [
      "Error fetching article: Article `download()` failed with Website protected with PerimeterX, url: None on URL https://www.manisteenews.com/news/world/article/el-senado-de-mexico-aprueba-una-controversial-19756945.php\n",
      "Fetching text for article 285 of 300\n",
      "Fetching text for article 286 of 300\n"
     ]
    },
    {
     "name": "stderr",
     "output_type": "stream",
     "text": [
      "WARNING:newspaper.network:get_html_status(): bad status code 403 on URL: https://bajanews.mx/noticias/32101/People-injured-in-protest-over-judicial-reform-at-congress-Mexicali, html: <!DOCTYPE html>\n",
      "<!--[if lt IE 7]> <html class=\"no-js ie6 oldie\" lang=\"en-US\"> <![endif]-->\n",
      "<!--[if IE 7]>    <html class=\"no-js ie7 oldie\" lang=\"en-US\"> <![endif]-->\n",
      "<!--[if IE 8]>    <html class=\"no-\n"
     ]
    },
    {
     "name": "stdout",
     "output_type": "stream",
     "text": [
      "Error fetching article: Article `download()` failed with Website protected with Cloudflare, url: None on URL https://bajanews.mx/noticias/32101/People-injured-in-protest-over-judicial-reform-at-congress-Mexicali\n",
      "Fetching text for article 287 of 300\n",
      "Fetching text for article 288 of 300\n"
     ]
    },
    {
     "name": "stderr",
     "output_type": "stream",
     "text": [
      "WARNING:newspaper.network:get_html_status(): bad status code 401 on URL: https://www.reuters.com/world/americas/mexican-senate-gives-general-approval-judicial-reform-nears-final-approval-2024-09-11/, html: <html><head><title>reuters.com</title><style>#cmsg{animation: A 1.5s;}@keyframes A{0%{opacity:0;}99%{opacity:0;}100%{opacity:1;}}</style></head><body style=\"margin:0\"><p id=\"cmsg\">Please enable JS and\n"
     ]
    },
    {
     "name": "stdout",
     "output_type": "stream",
     "text": [
      "Error fetching article: Article `download()` failed with Status code 401 for url None on URL https://www.reuters.com/world/americas/mexican-senate-gives-general-approval-judicial-reform-nears-final-approval-2024-09-11/\n",
      "Fetching text for article 289 of 300\n"
     ]
    },
    {
     "name": "stderr",
     "output_type": "stream",
     "text": [
      "WARNING:newspaper.network:get_html_status(): bad status code 429 on URL: https://www.youtube.com/watch%3Fv%3DSr9Z0zlxrbw, html: <!DOCTYPE html PUBLIC \"-//W3C//DTD HTML 4.01 Transitional//EN\">\n",
      "<html>\n",
      "<head><meta http-equiv=\"content-type\" content=\"text/html; charset=utf-8\"><meta name=\"viewport\" content=\"initial-scale=1\"><title>h\n"
     ]
    },
    {
     "name": "stdout",
     "output_type": "stream",
     "text": [
      "Error fetching article: Article `download()` failed with Status code 429 for url None on URL https://www.youtube.com/watch%3Fv%3DSr9Z0zlxrbw\n",
      "Fetching text for article 290 of 300\n"
     ]
    },
    {
     "name": "stderr",
     "output_type": "stream",
     "text": [
      "WARNING:newspaper.network:get_html_status(): bad status code 429 on URL: https://www.youtube.com/watch%3Fv%3DHVt1w3d3bSM, html: <!DOCTYPE html PUBLIC \"-//W3C//DTD HTML 4.01 Transitional//EN\">\n",
      "<html>\n",
      "<head><meta http-equiv=\"content-type\" content=\"text/html; charset=utf-8\"><meta name=\"viewport\" content=\"initial-scale=1\"><title>h\n"
     ]
    },
    {
     "name": "stdout",
     "output_type": "stream",
     "text": [
      "Error fetching article: Article `download()` failed with Status code 429 for url None on URL https://www.youtube.com/watch%3Fv%3DHVt1w3d3bSM\n",
      "Fetching text for article 291 of 300\n",
      "Fetching text for article 292 of 300\n",
      "Fetching text for article 293 of 300\n"
     ]
    },
    {
     "name": "stderr",
     "output_type": "stream",
     "text": [
      "WARNING:newspaper.network:get_html_status(): bad status code 429 on URL: https://www.youtube.com/watch%3Fv%3DxxY55NG_Gnk, html: <!DOCTYPE html PUBLIC \"-//W3C//DTD HTML 4.01 Transitional//EN\">\n",
      "<html>\n",
      "<head><meta http-equiv=\"content-type\" content=\"text/html; charset=utf-8\"><meta name=\"viewport\" content=\"initial-scale=1\"><title>h\n"
     ]
    },
    {
     "name": "stdout",
     "output_type": "stream",
     "text": [
      "Error fetching article: Article `download()` failed with Status code 429 for url None on URL https://www.youtube.com/watch%3Fv%3DxxY55NG_Gnk\n",
      "Fetching text for article 294 of 300\n"
     ]
    },
    {
     "name": "stderr",
     "output_type": "stream",
     "text": [
      "WARNING:newspaper.network:get_html_status(): bad status code 403 on URL: https://www.ctpost.com/news/world/article/el-senado-de-mexico-aprueba-una-controversial-19756945.php, html: <!DOCTYPE html>\n",
      "<html lang=\"en\">\n",
      "<head>\n",
      "    <meta charset=\"utf-8\">\n",
      "    <meta name=\"viewport\" content=\"width=device-width, initial-scale=1\">\n",
      "    <meta name=\"description\" content=\"px-captcha\">\n",
      "    <titl\n"
     ]
    },
    {
     "name": "stdout",
     "output_type": "stream",
     "text": [
      "Error fetching article: Article `download()` failed with Website protected with PerimeterX, url: None on URL https://www.ctpost.com/news/world/article/el-senado-de-mexico-aprueba-una-controversial-19756945.php\n",
      "Fetching text for article 295 of 300\n",
      "Fetching text for article 296 of 300\n",
      "Fetching text for article 297 of 300\n"
     ]
    },
    {
     "name": "stderr",
     "output_type": "stream",
     "text": [
      "WARNING:newspaper.network:get_html_status(): bad status code 403 on URL: https://headtopics.com/us/manifestantes-irrumpen-en-el-senado-de-mexico-durante-58814315, html: <!DOCTYPE html>\n",
      "<!--[if lt IE 7]> <html class=\"no-js ie6 oldie\" lang=\"en-US\"> <![endif]-->\n",
      "<!--[if IE 7]>    <html class=\"no-js ie7 oldie\" lang=\"en-US\"> <![endif]-->\n",
      "<!--[if IE 8]>    <html class=\"no-\n"
     ]
    },
    {
     "name": "stdout",
     "output_type": "stream",
     "text": [
      "Error fetching article: Article `download()` failed with Website protected with Cloudflare, url: None on URL https://headtopics.com/us/manifestantes-irrumpen-en-el-senado-de-mexico-durante-58814315\n",
      "Fetching text for article 298 of 300\n",
      "Fetching text for article 299 of 300\n",
      "Fetching text for article 300 of 300\n"
     ]
    },
    {
     "name": "stderr",
     "output_type": "stream",
     "text": [
      "WARNING:newspaper.network:get_html_status(): bad status code 403 on URL: https://www.wsj.com/world/americas/mexican-legislature-passes-judicial-overhaul-5399e8ff, html: <!DOCTYPE html><html lang=\"en-US\"><head><meta charSet=\"utf-8\"/><meta name=\"viewport\" content=\"width=device-width\"/><link data-ace-id=\"ace-link-8\" as=\"script\" href=\"https://www.wsj.com/asset/ace/ace.mi\n"
     ]
    },
    {
     "name": "stdout",
     "output_type": "stream",
     "text": [
      "Error fetching article: Article `download()` failed with Status code 403 for url None on URL https://www.wsj.com/world/americas/mexican-legislature-passes-judicial-overhaul-5399e8ff\n",
      "News saved to 'news_judicial_reform_all.xlsx'\n"
     ]
    }
   ],
   "source": [
    "#we define our topic of interest, which is \"reforma judicial\"\n",
    "query = \"reforma judicial\"\n",
    "news = get_news(query, 300)\n",
    "\n",
    "df = pd.DataFrame(news)\n",
    "df = df[['date', 'media', 'title', 'desc', 'link']]\n",
    "\n",
    "df['text'] = \"\"\n",
    "\n",
    "for idx, row in df.iterrows():\n",
    "    print(f\"Fetching text for article {idx+1} of {len(df)}\")\n",
    "    cleaned_link = clean_url(row['link'])\n",
    "    full_text = get_full_text(cleaned_link)\n",
    "    df.at[idx, 'text'] = full_text\n",
    "    time.sleep(random.uniform(2, 5))\n",
    "\n",
    "#we save the data into an excel file for the analysis\n",
    "df.to_excel('news_judicial_reform_all.xlsx', index=False)\n",
    "print(\"News saved to 'news_judicial_reform_all.xlsx'\")"
   ]
  },
  {
   "cell_type": "code",
   "execution_count": 50,
   "id": "d7ee5d24-bd58-4a7b-aaf9-50aacda43ada",
   "metadata": {},
   "outputs": [
    {
     "data": {
      "text/html": [
       "<div>\n",
       "<style scoped>\n",
       "    .dataframe tbody tr th:only-of-type {\n",
       "        vertical-align: middle;\n",
       "    }\n",
       "\n",
       "    .dataframe tbody tr th {\n",
       "        vertical-align: top;\n",
       "    }\n",
       "\n",
       "    .dataframe thead th {\n",
       "        text-align: right;\n",
       "    }\n",
       "</style>\n",
       "<table border=\"1\" class=\"dataframe\">\n",
       "  <thead>\n",
       "    <tr style=\"text-align: right;\">\n",
       "      <th></th>\n",
       "      <th>date</th>\n",
       "      <th>media</th>\n",
       "      <th>title</th>\n",
       "      <th>desc</th>\n",
       "      <th>link</th>\n",
       "      <th>text</th>\n",
       "    </tr>\n",
       "  </thead>\n",
       "  <tbody>\n",
       "    <tr>\n",
       "      <th>0</th>\n",
       "      <td>3 hours ago</td>\n",
       "      <td>Bloomberg</td>\n",
       "      <td>Legislaturas estatales de México respaldan ref...</td>\n",
       "      <td>Más de la mitad de las legislaturas estatales ...</td>\n",
       "      <td>https://www.bloomberg.com/news/articles/2024-0...</td>\n",
       "      <td>Más de la mitad de las legislaturas estatales ...</td>\n",
       "    </tr>\n",
       "    <tr>\n",
       "      <th>1</th>\n",
       "      <td>4 hours ago</td>\n",
       "      <td>The New York Times</td>\n",
       "      <td>México está dividido frente al nuevo plan para...</td>\n",
       "      <td>Mientras una amplia propuesta para elegir casi...</td>\n",
       "      <td>https://www.nytimes.com/es/2024/09/12/espanol/...</td>\n",
       "      <td>[Estamos en WhatsApp. Empieza a seguirnos ahor...</td>\n",
       "    </tr>\n",
       "    <tr>\n",
       "      <th>4</th>\n",
       "      <td>1 day ago</td>\n",
       "      <td>Bloomberg</td>\n",
       "      <td>Inversores advierten sobre retroceso a 1970 po...</td>\n",
       "      <td>En los últimos seis años, los inversionistas s...</td>\n",
       "      <td>https://www.bloomberg.com/news/articles/2024-0...</td>\n",
       "      <td>En los últimos seis años, los inversionistas s...</td>\n",
       "    </tr>\n",
       "  </tbody>\n",
       "</table>\n",
       "</div>"
      ],
      "text/plain": [
       "          date               media  \\\n",
       "0  3 hours ago           Bloomberg   \n",
       "1  4 hours ago  The New York Times   \n",
       "4    1 day ago           Bloomberg   \n",
       "\n",
       "                                               title  \\\n",
       "0  Legislaturas estatales de México respaldan ref...   \n",
       "1  México está dividido frente al nuevo plan para...   \n",
       "4  Inversores advierten sobre retroceso a 1970 po...   \n",
       "\n",
       "                                                desc  \\\n",
       "0  Más de la mitad de las legislaturas estatales ...   \n",
       "1  Mientras una amplia propuesta para elegir casi...   \n",
       "4  En los últimos seis años, los inversionistas s...   \n",
       "\n",
       "                                                link  \\\n",
       "0  https://www.bloomberg.com/news/articles/2024-0...   \n",
       "1  https://www.nytimes.com/es/2024/09/12/espanol/...   \n",
       "4  https://www.bloomberg.com/news/articles/2024-0...   \n",
       "\n",
       "                                                text  \n",
       "0  Más de la mitad de las legislaturas estatales ...  \n",
       "1  [Estamos en WhatsApp. Empieza a seguirnos ahor...  \n",
       "4  En los últimos seis años, los inversionistas s...  "
      ]
     },
     "execution_count": 50,
     "metadata": {},
     "output_type": "execute_result"
    }
   ],
   "source": [
    "df = pd.read_excel('news_judicial_reform_all.xlsx')\n",
    "#filter out articles where the text could not be downloaded\n",
    "df_filtered = df[df['text'] != \"Text not available\"]\n",
    "df_filtered.head(3)"
   ]
  },
  {
   "cell_type": "code",
   "execution_count": 54,
   "id": "5afba0e6-d145-4c52-9eda-d57e6cd83a73",
   "metadata": {},
   "outputs": [],
   "source": [
    "#calculate the subjectivity, polarity and get the analysis using library TextBlob\n",
    "def get_subjectivity(text):\n",
    "    if isinstance(text, str): \n",
    "        return TextBlob(text).sentiment.subjectivity\n",
    "    return None\n",
    "\n",
    "def get_polarity(text):\n",
    "    if isinstance(text, str):\n",
    "        return TextBlob(text).sentiment.polarity\n",
    "    return None\n",
    "\n",
    "def get_analysis(score):\n",
    "    if score is None:\n",
    "        return 'No analysis' \n",
    "    if score < 0:\n",
    "        return 'Negative'\n",
    "    elif score == 0:\n",
    "        return 'Neutral'\n",
    "    else:\n",
    "        return 'Positive'"
   ]
  },
  {
   "cell_type": "code",
   "execution_count": 55,
   "id": "c73fc122-6f1f-4cbc-9124-d723efaaac63",
   "metadata": {},
   "outputs": [
    {
     "name": "stderr",
     "output_type": "stream",
     "text": [
      "/var/folders/17/fn1y9q8s0svbp4zb8gr_707h0000gp/T/ipykernel_1403/108850679.py:1: SettingWithCopyWarning: \n",
      "A value is trying to be set on a copy of a slice from a DataFrame.\n",
      "Try using .loc[row_indexer,col_indexer] = value instead\n",
      "\n",
      "See the caveats in the documentation: https://pandas.pydata.org/pandas-docs/stable/user_guide/indexing.html#returning-a-view-versus-a-copy\n",
      "  df_filtered['TextBlob_Subjectivity'] = df_filtered['text'].apply(get_subjectivity)\n"
     ]
    },
    {
     "name": "stdout",
     "output_type": "stream",
     "text": [
      "                                                title  TextBlob_Subjectivity  \\\n",
      "0   Legislaturas estatales de México respaldan ref...               0.900000   \n",
      "1   México está dividido frente al nuevo plan para...               0.677273   \n",
      "4   Inversores advierten sobre retroceso a 1970 po...               0.000000   \n",
      "6                  Judicial Reform Approved in Mexico               0.000000   \n",
      "10  Legislaturas estatales de México respaldan ref...               0.900000   \n",
      "\n",
      "    TextBlob_Polarity TextBlob_Analysis  \n",
      "0            0.600000          Positive  \n",
      "1            0.368182          Positive  \n",
      "4            0.000000           Neutral  \n",
      "6            0.000000           Neutral  \n",
      "10           0.600000          Positive  \n"
     ]
    },
    {
     "name": "stderr",
     "output_type": "stream",
     "text": [
      "/var/folders/17/fn1y9q8s0svbp4zb8gr_707h0000gp/T/ipykernel_1403/108850679.py:2: SettingWithCopyWarning: \n",
      "A value is trying to be set on a copy of a slice from a DataFrame.\n",
      "Try using .loc[row_indexer,col_indexer] = value instead\n",
      "\n",
      "See the caveats in the documentation: https://pandas.pydata.org/pandas-docs/stable/user_guide/indexing.html#returning-a-view-versus-a-copy\n",
      "  df_filtered['TextBlob_Polarity'] = df_filtered['text'].apply(get_polarity)\n",
      "/var/folders/17/fn1y9q8s0svbp4zb8gr_707h0000gp/T/ipykernel_1403/108850679.py:3: SettingWithCopyWarning: \n",
      "A value is trying to be set on a copy of a slice from a DataFrame.\n",
      "Try using .loc[row_indexer,col_indexer] = value instead\n",
      "\n",
      "See the caveats in the documentation: https://pandas.pydata.org/pandas-docs/stable/user_guide/indexing.html#returning-a-view-versus-a-copy\n",
      "  df_filtered['TextBlob_Analysis'] = df_filtered['TextBlob_Polarity'].apply(get_analysis)\n"
     ]
    }
   ],
   "source": [
    "df_filtered['TextBlob_Subjectivity'] = df_filtered['text'].apply(get_subjectivity)\n",
    "df_filtered['TextBlob_Polarity'] = df_filtered['text'].apply(get_polarity)\n",
    "df_filtered['TextBlob_Analysis'] = df_filtered['TextBlob_Polarity'].apply(get_analysis)\n",
    "\n",
    "print(df_filtered[['title', 'TextBlob_Subjectivity', 'TextBlob_Polarity', 'TextBlob_Analysis']].head())"
   ]
  },
  {
   "cell_type": "code",
   "execution_count": 57,
   "id": "e3af3084-2b81-4365-b400-1c1b0dfe5b23",
   "metadata": {},
   "outputs": [],
   "source": [
    "df_filtered.to_excel('news_judicial_reform_sentiment_analysis.xlsx', index=False)"
   ]
  },
  {
   "cell_type": "code",
   "execution_count": 72,
   "id": "b3767df1-bc69-4282-8d08-a410ed4f06a0",
   "metadata": {},
   "outputs": [],
   "source": [
    "#I felt that the articles scrpaed previously were insufficient, as I had difficulty obtaining negative sentiments\n",
    "#so I readed that NewsAPI is a good source for collecting news articles through an API, which piqued my interest in exploring it further\n",
    "\n",
    "#I created an user account on NewsAPI to obtain my api key\n",
    "api_key = '06d4f092dd26487ab3b6f2c44531b60c'\n",
    "\n",
    "# Function to get news articles\n",
    "def get_news(query, from_date, to_date):\n",
    "    url = f'https://newsapi.org/v2/everything?q={query}&from={from_date}&to={to_date}&language=es&apiKey={api_key}'\n",
    "    response = requests.get(url)\n",
    "    data = response.json()\n",
    "    \n",
    "    if response.status_code == 200 and data['status'] == 'ok':\n",
    "        return data['articles']\n",
    "    else:\n",
    "        print(\"Error fetching news:\", data.get('message', ''))\n",
    "        return []\n",
    "\n",
    "# Function to scrape full text from article URL\n",
    "def scrape_full_text(url):\n",
    "    try:\n",
    "        response = requests.get(url)\n",
    "        soup = BeautifulSoup(response.content, 'html.parser')\n",
    "        \n",
    "        paragraphs = soup.find_all('p')\n",
    "        full_text = ' '.join([para.get_text() for para in paragraphs])\n",
    "        return full_text\n",
    "    except Exception as e:\n",
    "        print(f\"Error fetching article text: {e}\")\n",
    "        return \"Text not available\""
   ]
  },
  {
   "cell_type": "code",
   "execution_count": 81,
   "id": "86463159-ea8a-46d1-a737-42075ef7078f",
   "metadata": {},
   "outputs": [
    {
     "name": "stdout",
     "output_type": "stream",
     "text": [
      "Articles saved to 'judicial_reform_articles_before.xlsx'\n"
     ]
    }
   ],
   "source": [
    "query = \"reforma judicial\"\n",
    "#I selected these dates before the reform's approval on September 11, 2024 to check if the tone of the artciles was different\n",
    "from_date = \"2024-09-01\"\n",
    "to_date = \"2024-09-10\"\n",
    "\n",
    "articles = get_news(query, from_date, to_date)\n",
    "#iterate over each article to extract relevant information\n",
    "news_data = []\n",
    "for article in articles:\n",
    "    title = article['title']\n",
    "    link = article['url']\n",
    "    published_at = article['publishedAt']\n",
    "    full_text = scrape_full_text(link) \n",
    "    \n",
    "    news_data.append({\n",
    "        'title': title,\n",
    "        'link': link,\n",
    "        'date': published_at,\n",
    "        'text': full_text\n",
    "    })\n",
    "\n",
    "df_before = pd.DataFrame(news_data)\n",
    "df.to_excel('judicial_reform_articles_before.xlsx', index=False)\n",
    "print(\"Articles saved to 'judicial_reform_articles_before.xlsx'\")"
   ]
  },
  {
   "cell_type": "code",
   "execution_count": 85,
   "id": "7ed2397f-54fb-46cf-a24c-c5aebc6f4b1e",
   "metadata": {},
   "outputs": [
    {
     "data": {
      "text/html": [
       "<div>\n",
       "<style scoped>\n",
       "    .dataframe tbody tr th:only-of-type {\n",
       "        vertical-align: middle;\n",
       "    }\n",
       "\n",
       "    .dataframe tbody tr th {\n",
       "        vertical-align: top;\n",
       "    }\n",
       "\n",
       "    .dataframe thead th {\n",
       "        text-align: right;\n",
       "    }\n",
       "</style>\n",
       "<table border=\"1\" class=\"dataframe\">\n",
       "  <thead>\n",
       "    <tr style=\"text-align: right;\">\n",
       "      <th></th>\n",
       "      <th>title</th>\n",
       "      <th>link</th>\n",
       "      <th>publishedAt</th>\n",
       "      <th>full_text</th>\n",
       "    </tr>\n",
       "  </thead>\n",
       "  <tbody>\n",
       "    <tr>\n",
       "      <th>0</th>\n",
       "      <td>Cámara de Diputados aprueba en lo general la r...</td>\n",
       "      <td>https://cnnespanol.cnn.com/2024/09/04/camara-d...</td>\n",
       "      <td>2024-09-04T11:04:48Z</td>\n",
       "      <td>\\n(CNN Español) – Con 359 votos a favor, 135 e...</td>\n",
       "    </tr>\n",
       "    <tr>\n",
       "      <th>1</th>\n",
       "      <td>Reforma judicial de AMLO en México, en vivo: ú...</td>\n",
       "      <td>https://cnnespanol.cnn.com/2024/09/04/reforma-...</td>\n",
       "      <td>2024-09-04T12:27:55Z</td>\n",
       "      <td>\\n© 2024 Cable News Network.\\nA Warner Bros. D...</td>\n",
       "    </tr>\n",
       "    <tr>\n",
       "      <th>2</th>\n",
       "      <td>3 claves para entender qué cambia con la polém...</td>\n",
       "      <td>https://www.bbc.com/mundo/articles/cx28kzy4g8ko</td>\n",
       "      <td>2024-09-05T13:49:14Z</td>\n",
       "      <td>Fuente de la imagen, Getty Images La controver...</td>\n",
       "    </tr>\n",
       "  </tbody>\n",
       "</table>\n",
       "</div>"
      ],
      "text/plain": [
       "                                               title  \\\n",
       "0  Cámara de Diputados aprueba en lo general la r...   \n",
       "1  Reforma judicial de AMLO en México, en vivo: ú...   \n",
       "2  3 claves para entender qué cambia con la polém...   \n",
       "\n",
       "                                                link           publishedAt  \\\n",
       "0  https://cnnespanol.cnn.com/2024/09/04/camara-d...  2024-09-04T11:04:48Z   \n",
       "1  https://cnnespanol.cnn.com/2024/09/04/reforma-...  2024-09-04T12:27:55Z   \n",
       "2    https://www.bbc.com/mundo/articles/cx28kzy4g8ko  2024-09-05T13:49:14Z   \n",
       "\n",
       "                                           full_text  \n",
       "0  \\n(CNN Español) – Con 359 votos a favor, 135 e...  \n",
       "1  \\n© 2024 Cable News Network.\\nA Warner Bros. D...  \n",
       "2  Fuente de la imagen, Getty Images La controver...  "
      ]
     },
     "execution_count": 85,
     "metadata": {},
     "output_type": "execute_result"
    }
   ],
   "source": [
    "df_before = pd.read_excel('judicial_reform_articles_before.xlsx')\n",
    "df_before.head(3)"
   ]
  },
  {
   "cell_type": "code",
   "execution_count": 93,
   "id": "ee9c6396-9fa9-4bcd-9852-fa980f38e4ee",
   "metadata": {},
   "outputs": [
    {
     "data": {
      "text/html": [
       "<div>\n",
       "<style scoped>\n",
       "    .dataframe tbody tr th:only-of-type {\n",
       "        vertical-align: middle;\n",
       "    }\n",
       "\n",
       "    .dataframe tbody tr th {\n",
       "        vertical-align: top;\n",
       "    }\n",
       "\n",
       "    .dataframe thead th {\n",
       "        text-align: right;\n",
       "    }\n",
       "</style>\n",
       "<table border=\"1\" class=\"dataframe\">\n",
       "  <thead>\n",
       "    <tr style=\"text-align: right;\">\n",
       "      <th></th>\n",
       "      <th>title</th>\n",
       "      <th>link</th>\n",
       "      <th>publishedAt</th>\n",
       "      <th>full_text</th>\n",
       "      <th>TextBlob_Subjectivity</th>\n",
       "      <th>TextBlob_Polarity</th>\n",
       "      <th>TextBlob_Analysis</th>\n",
       "    </tr>\n",
       "  </thead>\n",
       "  <tbody>\n",
       "    <tr>\n",
       "      <th>0</th>\n",
       "      <td>Cámara de Diputados aprueba en lo general la r...</td>\n",
       "      <td>https://cnnespanol.cnn.com/2024/09/04/camara-d...</td>\n",
       "      <td>2024-09-04 11:04:48</td>\n",
       "      <td>\\n(CNN Español) – Con 359 votos a favor, 135 e...</td>\n",
       "      <td>0.526667</td>\n",
       "      <td>0.303333</td>\n",
       "      <td>Positive</td>\n",
       "    </tr>\n",
       "    <tr>\n",
       "      <th>1</th>\n",
       "      <td>Reforma judicial de AMLO en México, en vivo: ú...</td>\n",
       "      <td>https://cnnespanol.cnn.com/2024/09/04/reforma-...</td>\n",
       "      <td>2024-09-04 12:27:55</td>\n",
       "      <td>\\n© 2024 Cable News Network.\\nA Warner Bros. D...</td>\n",
       "      <td>0.476190</td>\n",
       "      <td>0.212585</td>\n",
       "      <td>Positive</td>\n",
       "    </tr>\n",
       "    <tr>\n",
       "      <th>2</th>\n",
       "      <td>3 claves para entender qué cambia con la polém...</td>\n",
       "      <td>https://www.bbc.com/mundo/articles/cx28kzy4g8ko</td>\n",
       "      <td>2024-09-05 13:49:14</td>\n",
       "      <td>Fuente de la imagen, Getty Images La controver...</td>\n",
       "      <td>0.472727</td>\n",
       "      <td>0.218182</td>\n",
       "      <td>Positive</td>\n",
       "    </tr>\n",
       "    <tr>\n",
       "      <th>3</th>\n",
       "      <td>Una jueza ordena suspender la discusión de la ...</td>\n",
       "      <td>https://cnnespanol.cnn.com/2024/09/01/jueza-su...</td>\n",
       "      <td>2024-09-02 02:05:01</td>\n",
       "      <td>\\n(CNN Español) –– Una jueza federal de México...</td>\n",
       "      <td>0.475000</td>\n",
       "      <td>0.162500</td>\n",
       "      <td>Positive</td>\n",
       "    </tr>\n",
       "    <tr>\n",
       "      <th>4</th>\n",
       "      <td>¿En qué consiste la reforma judicial que impul...</td>\n",
       "      <td>https://cnnespanol.cnn.com/2024/09/03/reforma-...</td>\n",
       "      <td>2024-09-03 19:40:13</td>\n",
       "      <td>\\n(CNN Español) –El pleno de la Cámara de Dipu...</td>\n",
       "      <td>0.590000</td>\n",
       "      <td>0.280000</td>\n",
       "      <td>Positive</td>\n",
       "    </tr>\n",
       "    <tr>\n",
       "      <th>5</th>\n",
       "      <td>López Obrador dice que la orden que suspende l...</td>\n",
       "      <td>https://cnnespanol.cnn.com/2024/09/02/lopez-ob...</td>\n",
       "      <td>2024-09-02 20:33:36</td>\n",
       "      <td>\\n(CNN Español)  –– El presidente de México, A...</td>\n",
       "      <td>0.900000</td>\n",
       "      <td>0.400000</td>\n",
       "      <td>Positive</td>\n",
       "    </tr>\n",
       "    <tr>\n",
       "      <th>6</th>\n",
       "      <td>ANÁLISIS | ¿Por qué genera tanta polémica la r...</td>\n",
       "      <td>https://cnnespanol.cnn.com/2024/09/04/analisis...</td>\n",
       "      <td>2024-09-04 18:55:37</td>\n",
       "      <td>\\n(CNN Español) – Desde que fue planteada por ...</td>\n",
       "      <td>0.592308</td>\n",
       "      <td>0.296154</td>\n",
       "      <td>Positive</td>\n",
       "    </tr>\n",
       "    <tr>\n",
       "      <th>7</th>\n",
       "      <td>Diputados de Morena anuncian que discusión de ...</td>\n",
       "      <td>https://cnnespanol.cnn.com/2024/09/03/diputado...</td>\n",
       "      <td>2024-09-03 22:55:38</td>\n",
       "      <td>\\n© 2024 Cable News Network.\\nA Warner Bros. D...</td>\n",
       "      <td>0.416667</td>\n",
       "      <td>0.108333</td>\n",
       "      <td>Positive</td>\n",
       "    </tr>\n",
       "    <tr>\n",
       "      <th>8</th>\n",
       "      <td>Estos son los pasos necesarios para aprobar la...</td>\n",
       "      <td>https://cnnespanol.cnn.com/2024/09/04/reforma-...</td>\n",
       "      <td>2024-09-04 14:17:16</td>\n",
       "      <td>\\n© 2024 Cable News Network.\\nA Warner Bros. D...</td>\n",
       "      <td>0.456667</td>\n",
       "      <td>0.108333</td>\n",
       "      <td>Positive</td>\n",
       "    </tr>\n",
       "    <tr>\n",
       "      <th>9</th>\n",
       "      <td>El juez Llarena da un nuevo portazo a Puigdemo...</td>\n",
       "      <td>https://www.elmundo.es/espana/2024/09/10/66e01...</td>\n",
       "      <td>2024-09-10 09:32:55</td>\n",
       "      <td>Portada \\nSUSCRÍBETE\\n20%\\n DTO.\\n   SUSCRÍBET...</td>\n",
       "      <td>0.384848</td>\n",
       "      <td>0.146970</td>\n",
       "      <td>Positive</td>\n",
       "    </tr>\n",
       "    <tr>\n",
       "      <th>10</th>\n",
       "      <td>¿En qué difiere la propuesta alternativa de re...</td>\n",
       "      <td>https://cnnespanol.cnn.com/2024/09/10/propuest...</td>\n",
       "      <td>2024-09-10 18:34:40</td>\n",
       "      <td>\\n(CNN Español) – La Suprema Corte de Justicia...</td>\n",
       "      <td>0.475000</td>\n",
       "      <td>0.175000</td>\n",
       "      <td>Positive</td>\n",
       "    </tr>\n",
       "    <tr>\n",
       "      <th>11</th>\n",
       "      <td>Última hora sobre la reforma judicial en Méxic...</td>\n",
       "      <td>https://cnnespanol.cnn.com/2024/09/10/ultima-h...</td>\n",
       "      <td>2024-09-10 14:33:25</td>\n",
       "      <td>\\n© 2024 Cable News Network.\\nA Warner Bros. D...</td>\n",
       "      <td>0.598551</td>\n",
       "      <td>0.292754</td>\n",
       "      <td>Positive</td>\n",
       "    </tr>\n",
       "    <tr>\n",
       "      <th>12</th>\n",
       "      <td>Suprema Corte de Justicia presenta la propuest...</td>\n",
       "      <td>https://cnnespanol.cnn.com/2024/09/08/corte-ju...</td>\n",
       "      <td>2024-09-09 01:58:33</td>\n",
       "      <td>\\n(CNN Español) –– La Suprema Corte de Justici...</td>\n",
       "      <td>0.590000</td>\n",
       "      <td>0.200000</td>\n",
       "      <td>Positive</td>\n",
       "    </tr>\n",
       "    <tr>\n",
       "      <th>13</th>\n",
       "      <td>Suprema Corte de Justicia de México suspende a...</td>\n",
       "      <td>https://cnnespanol.cnn.com/2024/09/03/suprema-...</td>\n",
       "      <td>2024-09-03 21:09:52</td>\n",
       "      <td>\\n© 2024 Cable News Network.\\nA Warner Bros. D...</td>\n",
       "      <td>0.000000</td>\n",
       "      <td>0.000000</td>\n",
       "      <td>Neutral</td>\n",
       "    </tr>\n",
       "    <tr>\n",
       "      <th>14</th>\n",
       "      <td>López Obrador sobre propuesta de la ministra N...</td>\n",
       "      <td>https://cnnespanol.cnn.com/2024/09/09/amlo-nor...</td>\n",
       "      <td>2024-09-09 18:41:30</td>\n",
       "      <td>\\n(CNN Español) – El presidente de México, And...</td>\n",
       "      <td>0.725000</td>\n",
       "      <td>0.100000</td>\n",
       "      <td>Positive</td>\n",
       "    </tr>\n",
       "    <tr>\n",
       "      <th>16</th>\n",
       "      <td>López Obrador denuncia nepotismo en el Poder J...</td>\n",
       "      <td>https://actualidad.rt.com/actualidad/522199-lo...</td>\n",
       "      <td>2024-09-09 21:15:18</td>\n",
       "      <td>El presidente de México, Andrés Manuel López O...</td>\n",
       "      <td>0.000000</td>\n",
       "      <td>0.000000</td>\n",
       "      <td>Neutral</td>\n",
       "    </tr>\n",
       "    <tr>\n",
       "      <th>17</th>\n",
       "      <td>López Obrador dijo que las relaciones con EE.U...</td>\n",
       "      <td>https://cnnespanol.cnn.com/2024/09/03/amlo-dij...</td>\n",
       "      <td>2024-09-03 13:02:35</td>\n",
       "      <td>\\n(CNN Español) – El presidente de México, And...</td>\n",
       "      <td>0.000000</td>\n",
       "      <td>0.000000</td>\n",
       "      <td>Neutral</td>\n",
       "    </tr>\n",
       "    <tr>\n",
       "      <th>18</th>\n",
       "      <td>López Obrador defiende su legado para construi...</td>\n",
       "      <td>https://www.elmundo.es/internacional/2024/09/0...</td>\n",
       "      <td>2024-09-01 22:25:04</td>\n",
       "      <td>Portada \\nSUSCRÍBETE\\n20%\\n DTO.\\n   SUSCRÍBET...</td>\n",
       "      <td>0.450000</td>\n",
       "      <td>0.300000</td>\n",
       "      <td>Positive</td>\n",
       "    </tr>\n",
       "    <tr>\n",
       "      <th>24</th>\n",
       "      <td>López Obrador: \"Para que haya una dictadura se...</td>\n",
       "      <td>https://actualidad.rt.com/actualidad/522331-lo...</td>\n",
       "      <td>2024-09-10 17:05:05</td>\n",
       "      <td>El presidente de México, Andrés Manuel López O...</td>\n",
       "      <td>0.000000</td>\n",
       "      <td>0.000000</td>\n",
       "      <td>Neutral</td>\n",
       "    </tr>\n",
       "    <tr>\n",
       "      <th>26</th>\n",
       "      <td>La reforma judicial de López Obrador convulsio...</td>\n",
       "      <td>https://www.abc.es/internacional/reforma-judic...</td>\n",
       "      <td>2024-09-04 15:20:22</td>\n",
       "      <td>\\nReference #18.c827c817.1726222289.35bdcc62\\n...</td>\n",
       "      <td>0.000000</td>\n",
       "      <td>0.000000</td>\n",
       "      <td>Neutral</td>\n",
       "    </tr>\n",
       "  </tbody>\n",
       "</table>\n",
       "</div>"
      ],
      "text/plain": [
       "                                                title  \\\n",
       "0   Cámara de Diputados aprueba en lo general la r...   \n",
       "1   Reforma judicial de AMLO en México, en vivo: ú...   \n",
       "2   3 claves para entender qué cambia con la polém...   \n",
       "3   Una jueza ordena suspender la discusión de la ...   \n",
       "4   ¿En qué consiste la reforma judicial que impul...   \n",
       "5   López Obrador dice que la orden que suspende l...   \n",
       "6   ANÁLISIS | ¿Por qué genera tanta polémica la r...   \n",
       "7   Diputados de Morena anuncian que discusión de ...   \n",
       "8   Estos son los pasos necesarios para aprobar la...   \n",
       "9   El juez Llarena da un nuevo portazo a Puigdemo...   \n",
       "10  ¿En qué difiere la propuesta alternativa de re...   \n",
       "11  Última hora sobre la reforma judicial en Méxic...   \n",
       "12  Suprema Corte de Justicia presenta la propuest...   \n",
       "13  Suprema Corte de Justicia de México suspende a...   \n",
       "14  López Obrador sobre propuesta de la ministra N...   \n",
       "16  López Obrador denuncia nepotismo en el Poder J...   \n",
       "17  López Obrador dijo que las relaciones con EE.U...   \n",
       "18  López Obrador defiende su legado para construi...   \n",
       "24  López Obrador: \"Para que haya una dictadura se...   \n",
       "26  La reforma judicial de López Obrador convulsio...   \n",
       "\n",
       "                                                 link          publishedAt  \\\n",
       "0   https://cnnespanol.cnn.com/2024/09/04/camara-d...  2024-09-04 11:04:48   \n",
       "1   https://cnnespanol.cnn.com/2024/09/04/reforma-...  2024-09-04 12:27:55   \n",
       "2     https://www.bbc.com/mundo/articles/cx28kzy4g8ko  2024-09-05 13:49:14   \n",
       "3   https://cnnespanol.cnn.com/2024/09/01/jueza-su...  2024-09-02 02:05:01   \n",
       "4   https://cnnespanol.cnn.com/2024/09/03/reforma-...  2024-09-03 19:40:13   \n",
       "5   https://cnnespanol.cnn.com/2024/09/02/lopez-ob...  2024-09-02 20:33:36   \n",
       "6   https://cnnespanol.cnn.com/2024/09/04/analisis...  2024-09-04 18:55:37   \n",
       "7   https://cnnespanol.cnn.com/2024/09/03/diputado...  2024-09-03 22:55:38   \n",
       "8   https://cnnespanol.cnn.com/2024/09/04/reforma-...  2024-09-04 14:17:16   \n",
       "9   https://www.elmundo.es/espana/2024/09/10/66e01...  2024-09-10 09:32:55   \n",
       "10  https://cnnespanol.cnn.com/2024/09/10/propuest...  2024-09-10 18:34:40   \n",
       "11  https://cnnespanol.cnn.com/2024/09/10/ultima-h...  2024-09-10 14:33:25   \n",
       "12  https://cnnespanol.cnn.com/2024/09/08/corte-ju...  2024-09-09 01:58:33   \n",
       "13  https://cnnespanol.cnn.com/2024/09/03/suprema-...  2024-09-03 21:09:52   \n",
       "14  https://cnnespanol.cnn.com/2024/09/09/amlo-nor...  2024-09-09 18:41:30   \n",
       "16  https://actualidad.rt.com/actualidad/522199-lo...  2024-09-09 21:15:18   \n",
       "17  https://cnnespanol.cnn.com/2024/09/03/amlo-dij...  2024-09-03 13:02:35   \n",
       "18  https://www.elmundo.es/internacional/2024/09/0...  2024-09-01 22:25:04   \n",
       "24  https://actualidad.rt.com/actualidad/522331-lo...  2024-09-10 17:05:05   \n",
       "26  https://www.abc.es/internacional/reforma-judic...  2024-09-04 15:20:22   \n",
       "\n",
       "                                            full_text  TextBlob_Subjectivity  \\\n",
       "0   \\n(CNN Español) – Con 359 votos a favor, 135 e...               0.526667   \n",
       "1   \\n© 2024 Cable News Network.\\nA Warner Bros. D...               0.476190   \n",
       "2   Fuente de la imagen, Getty Images La controver...               0.472727   \n",
       "3   \\n(CNN Español) –– Una jueza federal de México...               0.475000   \n",
       "4   \\n(CNN Español) –El pleno de la Cámara de Dipu...               0.590000   \n",
       "5   \\n(CNN Español)  –– El presidente de México, A...               0.900000   \n",
       "6   \\n(CNN Español) – Desde que fue planteada por ...               0.592308   \n",
       "7   \\n© 2024 Cable News Network.\\nA Warner Bros. D...               0.416667   \n",
       "8   \\n© 2024 Cable News Network.\\nA Warner Bros. D...               0.456667   \n",
       "9   Portada \\nSUSCRÍBETE\\n20%\\n DTO.\\n   SUSCRÍBET...               0.384848   \n",
       "10  \\n(CNN Español) – La Suprema Corte de Justicia...               0.475000   \n",
       "11  \\n© 2024 Cable News Network.\\nA Warner Bros. D...               0.598551   \n",
       "12  \\n(CNN Español) –– La Suprema Corte de Justici...               0.590000   \n",
       "13  \\n© 2024 Cable News Network.\\nA Warner Bros. D...               0.000000   \n",
       "14  \\n(CNN Español) – El presidente de México, And...               0.725000   \n",
       "16  El presidente de México, Andrés Manuel López O...               0.000000   \n",
       "17  \\n(CNN Español) – El presidente de México, And...               0.000000   \n",
       "18  Portada \\nSUSCRÍBETE\\n20%\\n DTO.\\n   SUSCRÍBET...               0.450000   \n",
       "24  El presidente de México, Andrés Manuel López O...               0.000000   \n",
       "26  \\nReference #18.c827c817.1726222289.35bdcc62\\n...               0.000000   \n",
       "\n",
       "    TextBlob_Polarity TextBlob_Analysis  \n",
       "0            0.303333          Positive  \n",
       "1            0.212585          Positive  \n",
       "2            0.218182          Positive  \n",
       "3            0.162500          Positive  \n",
       "4            0.280000          Positive  \n",
       "5            0.400000          Positive  \n",
       "6            0.296154          Positive  \n",
       "7            0.108333          Positive  \n",
       "8            0.108333          Positive  \n",
       "9            0.146970          Positive  \n",
       "10           0.175000          Positive  \n",
       "11           0.292754          Positive  \n",
       "12           0.200000          Positive  \n",
       "13           0.000000           Neutral  \n",
       "14           0.100000          Positive  \n",
       "16           0.000000           Neutral  \n",
       "17           0.000000           Neutral  \n",
       "18           0.300000          Positive  \n",
       "24           0.000000           Neutral  \n",
       "26           0.000000           Neutral  "
      ]
     },
     "execution_count": 93,
     "metadata": {},
     "output_type": "execute_result"
    }
   ],
   "source": [
    "df_before = df_before[df_before['full_text'].notna() & (df_before['full_text'].str.strip() != \"\")]\n",
    "df_before['publishedAt'] = pd.to_datetime(df_before['publishedAt']).dt.strftime('%Y-%m-%d %H:%M:%S')\n",
    "df_before.head(20)"
   ]
  },
  {
   "cell_type": "code",
   "execution_count": 94,
   "id": "f2590a79-4257-4a22-985c-480db4cb2aeb",
   "metadata": {},
   "outputs": [
    {
     "name": "stdout",
     "output_type": "stream",
     "text": [
      "                                               title  TextBlob_Subjectivity  \\\n",
      "0  Cámara de Diputados aprueba en lo general la r...               0.526667   \n",
      "1  Reforma judicial de AMLO en México, en vivo: ú...               0.476190   \n",
      "2  3 claves para entender qué cambia con la polém...               0.472727   \n",
      "3  Una jueza ordena suspender la discusión de la ...               0.475000   \n",
      "4  ¿En qué consiste la reforma judicial que impul...               0.590000   \n",
      "\n",
      "   TextBlob_Polarity TextBlob_Analysis  \n",
      "0           0.303333          Positive  \n",
      "1           0.212585          Positive  \n",
      "2           0.218182          Positive  \n",
      "3           0.162500          Positive  \n",
      "4           0.280000          Positive  \n"
     ]
    }
   ],
   "source": [
    "#I analized the articles using TextBlob again\n",
    "#I found thtat the tone of nearly all article before the approval was neutral or postive (again)\n",
    "df_before['TextBlob_Subjectivity'] = df_before['full_text'].apply(get_subjectivity)\n",
    "df_before['TextBlob_Polarity'] = df_before['full_text'].apply(get_polarity)\n",
    "df_before['TextBlob_Analysis'] = df_before['TextBlob_Polarity'].apply(get_analysis)\n",
    "\n",
    "print(df_before[['title', 'TextBlob_Subjectivity', 'TextBlob_Polarity', 'TextBlob_Analysis']].head())"
   ]
  },
  {
   "cell_type": "code",
   "execution_count": 95,
   "id": "4f5f21c3-699c-4a7e-a800-add6a3e4fe1c",
   "metadata": {},
   "outputs": [],
   "source": [
    "df_before.to_excel('news_judicial_reform_sentiment_analysis_before.xlsx', index=False)"
   ]
  },
  {
   "cell_type": "code",
   "execution_count": 96,
   "id": "2e335e04-0fb2-4d1c-9a24-f363f5608ae1",
   "metadata": {},
   "outputs": [
    {
     "data": {
      "text/html": [
       "<div>\n",
       "<style scoped>\n",
       "    .dataframe tbody tr th:only-of-type {\n",
       "        vertical-align: middle;\n",
       "    }\n",
       "\n",
       "    .dataframe tbody tr th {\n",
       "        vertical-align: top;\n",
       "    }\n",
       "\n",
       "    .dataframe thead th {\n",
       "        text-align: right;\n",
       "    }\n",
       "</style>\n",
       "<table border=\"1\" class=\"dataframe\">\n",
       "  <thead>\n",
       "    <tr style=\"text-align: right;\">\n",
       "      <th></th>\n",
       "      <th>title</th>\n",
       "      <th>link</th>\n",
       "      <th>publishedAt</th>\n",
       "      <th>full_text</th>\n",
       "      <th>TextBlob_Subjectivity</th>\n",
       "      <th>TextBlob_Polarity</th>\n",
       "      <th>TextBlob_Analysis</th>\n",
       "    </tr>\n",
       "  </thead>\n",
       "  <tbody>\n",
       "    <tr>\n",
       "      <th>0</th>\n",
       "      <td>Cámara de Diputados aprueba en lo general la r...</td>\n",
       "      <td>https://cnnespanol.cnn.com/2024/09/04/camara-d...</td>\n",
       "      <td>2024-09-04 11:04:48</td>\n",
       "      <td>\\n(CNN Español) – Con 359 votos a favor, 135 e...</td>\n",
       "      <td>0.526667</td>\n",
       "      <td>0.303333</td>\n",
       "      <td>Positive</td>\n",
       "    </tr>\n",
       "    <tr>\n",
       "      <th>1</th>\n",
       "      <td>Reforma judicial de AMLO en México, en vivo: ú...</td>\n",
       "      <td>https://cnnespanol.cnn.com/2024/09/04/reforma-...</td>\n",
       "      <td>2024-09-04 12:27:55</td>\n",
       "      <td>\\n© 2024 Cable News Network.\\nA Warner Bros. D...</td>\n",
       "      <td>0.476190</td>\n",
       "      <td>0.212585</td>\n",
       "      <td>Positive</td>\n",
       "    </tr>\n",
       "    <tr>\n",
       "      <th>2</th>\n",
       "      <td>3 claves para entender qué cambia con la polém...</td>\n",
       "      <td>https://www.bbc.com/mundo/articles/cx28kzy4g8ko</td>\n",
       "      <td>2024-09-05 13:49:14</td>\n",
       "      <td>Fuente de la imagen, Getty Images La controver...</td>\n",
       "      <td>0.472727</td>\n",
       "      <td>0.218182</td>\n",
       "      <td>Positive</td>\n",
       "    </tr>\n",
       "  </tbody>\n",
       "</table>\n",
       "</div>"
      ],
      "text/plain": [
       "                                               title  \\\n",
       "0  Cámara de Diputados aprueba en lo general la r...   \n",
       "1  Reforma judicial de AMLO en México, en vivo: ú...   \n",
       "2  3 claves para entender qué cambia con la polém...   \n",
       "\n",
       "                                                link          publishedAt  \\\n",
       "0  https://cnnespanol.cnn.com/2024/09/04/camara-d...  2024-09-04 11:04:48   \n",
       "1  https://cnnespanol.cnn.com/2024/09/04/reforma-...  2024-09-04 12:27:55   \n",
       "2    https://www.bbc.com/mundo/articles/cx28kzy4g8ko  2024-09-05 13:49:14   \n",
       "\n",
       "                                           full_text  TextBlob_Subjectivity  \\\n",
       "0  \\n(CNN Español) – Con 359 votos a favor, 135 e...               0.526667   \n",
       "1  \\n© 2024 Cable News Network.\\nA Warner Bros. D...               0.476190   \n",
       "2  Fuente de la imagen, Getty Images La controver...               0.472727   \n",
       "\n",
       "   TextBlob_Polarity TextBlob_Analysis  \n",
       "0           0.303333          Positive  \n",
       "1           0.212585          Positive  \n",
       "2           0.218182          Positive  "
      ]
     },
     "execution_count": 96,
     "metadata": {},
     "output_type": "execute_result"
    }
   ],
   "source": [
    "df_before.head(3)"
   ]
  },
  {
   "cell_type": "code",
   "execution_count": 106,
   "id": "72f7f159-878e-4184-987c-d5f8560a4b85",
   "metadata": {},
   "outputs": [
    {
     "name": "stdout",
     "output_type": "stream",
     "text": [
      "              precision    recall  f1-score   support\n",
      "\n",
      "    Negative       0.00      0.00      0.00         1\n",
      "     Neutral       0.75      0.91      0.82        23\n",
      "    Positive       0.86      0.72      0.78        25\n",
      "\n",
      "    accuracy                           0.80        49\n",
      "   macro avg       0.54      0.54      0.54        49\n",
      "weighted avg       0.79      0.80      0.79        49\n",
      "\n"
     ]
    },
    {
     "name": "stderr",
     "output_type": "stream",
     "text": [
      "/opt/anaconda3/lib/python3.11/site-packages/sklearn/metrics/_classification.py:1344: UndefinedMetricWarning: Precision and F-score are ill-defined and being set to 0.0 in labels with no predicted samples. Use `zero_division` parameter to control this behavior.\n",
      "  _warn_prf(average, modifier, msg_start, len(result))\n",
      "/opt/anaconda3/lib/python3.11/site-packages/sklearn/metrics/_classification.py:1344: UndefinedMetricWarning: Precision and F-score are ill-defined and being set to 0.0 in labels with no predicted samples. Use `zero_division` parameter to control this behavior.\n",
      "  _warn_prf(average, modifier, msg_start, len(result))\n",
      "/opt/anaconda3/lib/python3.11/site-packages/sklearn/metrics/_classification.py:1344: UndefinedMetricWarning: Precision and F-score are ill-defined and being set to 0.0 in labels with no predicted samples. Use `zero_division` parameter to control this behavior.\n",
      "  _warn_prf(average, modifier, msg_start, len(result))\n"
     ]
    }
   ],
   "source": [
    "# Combine df_before and df_filtered for analysis\n",
    "df_combined = pd.concat([\n",
    "    df_before[['full_text', 'TextBlob_Analysis']].rename(columns={'full_text': 'text'}),\n",
    "    df_filtered[['text', 'TextBlob_Analysis']]\n",
    "], ignore_index=True)\n",
    "\n",
    "df_combined = df_combined.rename(columns={'TextBlob_Analysis': 'sentiment'})\n",
    "\n",
    "# Drop NaN values in the 'text' column\n",
    "df_combined = df_combined.dropna(subset=['text', 'sentiment'])\n",
    "\n",
    "# Split the data into features and labels\n",
    "X = df_combined['text']\n",
    "y = df_combined['sentiment']\n",
    "\n",
    "# Split into training and testing sets\n",
    "X_train, X_test, y_train, y_test = train_test_split(X, y, test_size=0.2, random_state=42)\n",
    "\n",
    "# Vectorize the text\n",
    "vectorizer = CountVectorizer()\n",
    "X_train_vectorized = vectorizer.fit_transform(X_train)\n",
    "X_test_vectorized = vectorizer.transform(X_test)\n",
    "\n",
    "# Train a Naives Bayes Model\n",
    "model = MultinomialNB()\n",
    "model.fit(X_train_vectorized, y_train)\n",
    "\n",
    "# Make predictions\n",
    "y_pred = model.predict(X_test_vectorized)\n",
    "\n",
    "# Evaluate the model\n",
    "print(classification_report(y_test, y_pred))"
   ]
  }
 ],
 "metadata": {
  "kernelspec": {
   "display_name": "Python 3 (ipykernel)",
   "language": "python",
   "name": "python3"
  },
  "language_info": {
   "codemirror_mode": {
    "name": "ipython",
    "version": 3
   },
   "file_extension": ".py",
   "mimetype": "text/x-python",
   "name": "python",
   "nbconvert_exporter": "python",
   "pygments_lexer": "ipython3",
   "version": "3.11.7"
  }
 },
 "nbformat": 4,
 "nbformat_minor": 5
}
